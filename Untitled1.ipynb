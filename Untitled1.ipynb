{
  "nbformat": 4,
  "nbformat_minor": 0,
  "metadata": {
    "colab": {
      "name": "Untitled1.ipynb",
      "provenance": []
    },
    "kernelspec": {
      "name": "python3",
      "display_name": "Python 3"
    }
  },
  "cells": [
    {
      "cell_type": "code",
      "metadata": {
        "id": "SsCrWmBATfHO",
        "colab_type": "code",
        "colab": {}
      },
      "source": [
        "Stack = pd.read_csv('/content/drive/My Drive/Data Science Udacity/stackoverflow_dataset/survey_results_public.csv')\n",
        "Schema = pd.read_csv('/content/drive/My Drive/Data Science Udacity/stackoverflow_dataset/survey_results_schema.csv')"
      ],
      "execution_count": 0,
      "outputs": []
    },
    {
      "cell_type": "code",
      "metadata": {
        "colab_type": "code",
        "outputId": "cebb9ffa-b624-489b-dcb6-02adf03cdbba",
        "id": "HinT-5WtWLYy",
        "colab": {
          "base_uri": "https://localhost:8080/",
          "height": 34
        }
      },
      "source": [
        "Stack.dropna(subset = [\"OrgSize\"], inplace=True)\n",
        "print(Stack.shape)"
      ],
      "execution_count": 0,
      "outputs": [
        {
          "output_type": "stream",
          "text": [
            "(71791, 85)\n"
          ],
          "name": "stdout"
        }
      ]
    },
    {
      "cell_type": "code",
      "metadata": {
        "id": "WPF1YcaZcDpv",
        "colab_type": "code",
        "outputId": "e65fed97-7d3f-494a-a40c-e5cfcb723a7c",
        "colab": {
          "base_uri": "https://localhost:8080/",
          "height": 34
        }
      },
      "source": [
        "Stack['OrgSize'].isnull().sum()"
      ],
      "execution_count": 0,
      "outputs": [
        {
          "output_type": "execute_result",
          "data": {
            "text/plain": [
              "0"
            ]
          },
          "metadata": {
            "tags": []
          },
          "execution_count": 4
        }
      ]
    },
    {
      "cell_type": "code",
      "metadata": {
        "id": "Otk5VZJeX7Mc",
        "colab_type": "code",
        "outputId": "a3d711a1-d9db-4fc0-c7b8-aea5332f8dc1",
        "colab": {
          "base_uri": "https://localhost:8080/",
          "height": 68
        }
      },
      "source": [
        "#print(df2.head())\n",
        "searchfor = ['hobby', 'longer']\n",
        "Stack = Stack[~Stack.MainBranch.str.contains('|'.join(searchfor), na=False)]\n",
        "print(Stack.MainBranch.value_counts())"
      ],
      "execution_count": 0,
      "outputs": [
        {
          "output_type": "stream",
          "text": [
            "I am a developer by profession                                                   62268\n",
            "I am not primarily a developer, but I write code sometimes as part of my work     6847\n",
            "Name: MainBranch, dtype: int64\n"
          ],
          "name": "stdout"
        }
      ]
    },
    {
      "cell_type": "code",
      "metadata": {
        "id": "PsjhFbtfbZ_r",
        "colab_type": "code",
        "colab": {}
      },
      "source": [
        "#Stack.columns"
      ],
      "execution_count": 0,
      "outputs": []
    },
    {
      "cell_type": "code",
      "metadata": {
        "id": "vqqyBwhF9u4Y",
        "colab_type": "code",
        "outputId": "a929902b-e1e4-46c4-f1cc-19c4c6c870d2",
        "colab": {
          "base_uri": "https://localhost:8080/",
          "height": 632
        }
      },
      "source": [
        "df2 = Stack[['Respondent', 'MainBranch', 'Hobbyist', 'OpenSourcer', 'Employment', 'Student', \n",
        "            'EdLevel', 'UndergradMajor', 'EduOther', 'LastHireDate', 'LanguageWorkedWith', \n",
        "            'DatabaseWorkedWith', 'WebFrameWorkedWith', 'MiscTechWorkedWith', 'Age', 'Country', 'OrgSize']]\n",
        "\n",
        "df2 = df2.fillna(df2.mode().iloc[0])\n",
        "\n",
        "EduOther_type_info = {}\n",
        "\n",
        "for row in df2['EduOther']:\n",
        "    EduOther_types = row.split(';')\n",
        "\n",
        "    for EduOther_type in EduOther_types:\n",
        "        EduOther_type_info.setdefault(EduOther_type, {\n",
        "                'total': 0,\n",
        "                'EduOther': Counter()\n",
        "            })\n",
        "        EduOther_counters = row.split(';')\n",
        "        EduOther_type_info[EduOther_type]['EduOther'].update(EduOther_counters)\n",
        "        EduOther_type_info[EduOther_type]['total'] += 1\n",
        "\n",
        "for EduOther_type, info in EduOther_type_info.items():\n",
        "    for EduOther, value in info['EduOther'].items():\n",
        "        EduOther_pct = (value / info['total']) * 100\n",
        "        EduOther_pct = round(EduOther_pct, 2)\n",
        "        print(EduOther_type,\":\", value)\n",
        "        EduOther1 = EduOther_type[0:15]\n",
        "        break\n",
        "    # for ind, row in df2.items():\n",
        "    #     df2.loc[ind, EduOther1] = \"1\" if row['EduOther'].contains(EduOther1) else \"0\"\n",
        "        \n",
        "df2.head()"
      ],
      "execution_count": 0,
      "outputs": [
        {
          "output_type": "stream",
          "text": [
            "Taught yourself a new language, framework, or tool without taking a formal course : 60623\n",
            "Taken an online course in programming or software development (e.g. a MOOC) : 40080\n",
            "Received on-the-job training in software development : 19004\n",
            "Contributed to open source software : 17158\n",
            "Participated in a full-time developer training program or bootcamp : 7968\n",
            "Taken a part-time in-person course in programming or software development : 9415\n",
            "Participated in online coding competitions (e.g. HackerRank, CodeChef, TopCoder) : 11741\n",
            "Participated in a hackathon : 11789\n",
            "Completed an industry certification program (e.g. MCPD) : 11067\n"
          ],
          "name": "stdout"
        },
        {
          "output_type": "execute_result",
          "data": {
            "text/html": [
              "<div>\n",
              "<style scoped>\n",
              "    .dataframe tbody tr th:only-of-type {\n",
              "        vertical-align: middle;\n",
              "    }\n",
              "\n",
              "    .dataframe tbody tr th {\n",
              "        vertical-align: top;\n",
              "    }\n",
              "\n",
              "    .dataframe thead th {\n",
              "        text-align: right;\n",
              "    }\n",
              "</style>\n",
              "<table border=\"1\" class=\"dataframe\">\n",
              "  <thead>\n",
              "    <tr style=\"text-align: right;\">\n",
              "      <th></th>\n",
              "      <th>Respondent</th>\n",
              "      <th>MainBranch</th>\n",
              "      <th>Hobbyist</th>\n",
              "      <th>OpenSourcer</th>\n",
              "      <th>Employment</th>\n",
              "      <th>Student</th>\n",
              "      <th>EdLevel</th>\n",
              "      <th>UndergradMajor</th>\n",
              "      <th>EduOther</th>\n",
              "      <th>LastHireDate</th>\n",
              "      <th>LanguageWorkedWith</th>\n",
              "      <th>DatabaseWorkedWith</th>\n",
              "      <th>WebFrameWorkedWith</th>\n",
              "      <th>MiscTechWorkedWith</th>\n",
              "      <th>Age</th>\n",
              "      <th>Country</th>\n",
              "      <th>OrgSize</th>\n",
              "    </tr>\n",
              "  </thead>\n",
              "  <tbody>\n",
              "    <tr>\n",
              "      <th>2</th>\n",
              "      <td>3</td>\n",
              "      <td>I am not primarily a devel...</td>\n",
              "      <td>Yes</td>\n",
              "      <td>Never</td>\n",
              "      <td>Employed full-time</td>\n",
              "      <td>No</td>\n",
              "      <td>Bachelor’s degree (BA, BS,...</td>\n",
              "      <td>Web development or web design</td>\n",
              "      <td>Taught yourself a new lang...</td>\n",
              "      <td>1-2 years ago</td>\n",
              "      <td>HTML/CSS</td>\n",
              "      <td>PostgreSQL</td>\n",
              "      <td>jQuery</td>\n",
              "      <td>Node.js</td>\n",
              "      <td>28.0</td>\n",
              "      <td>Thailand</td>\n",
              "      <td>100 to 499 employees</td>\n",
              "    </tr>\n",
              "    <tr>\n",
              "      <th>3</th>\n",
              "      <td>4</td>\n",
              "      <td>I am a developer by profes...</td>\n",
              "      <td>No</td>\n",
              "      <td>Never</td>\n",
              "      <td>Employed full-time</td>\n",
              "      <td>No</td>\n",
              "      <td>Bachelor’s degree (BA, BS,...</td>\n",
              "      <td>Computer science, computer...</td>\n",
              "      <td>Taken an online course in ...</td>\n",
              "      <td>Less than a year ago</td>\n",
              "      <td>C;C++;C#;Python;SQL</td>\n",
              "      <td>MySQL;SQLite</td>\n",
              "      <td>jQuery</td>\n",
              "      <td>.NET</td>\n",
              "      <td>22.0</td>\n",
              "      <td>United States</td>\n",
              "      <td>100 to 499 employees</td>\n",
              "    </tr>\n",
              "    <tr>\n",
              "      <th>4</th>\n",
              "      <td>5</td>\n",
              "      <td>I am a developer by profes...</td>\n",
              "      <td>Yes</td>\n",
              "      <td>Once a month or more often</td>\n",
              "      <td>Employed full-time</td>\n",
              "      <td>No</td>\n",
              "      <td>Bachelor’s degree (BA, BS,...</td>\n",
              "      <td>Computer science, computer...</td>\n",
              "      <td>Taken an online course in ...</td>\n",
              "      <td>Less than a year ago</td>\n",
              "      <td>C++;HTML/CSS;Java;JavaScri...</td>\n",
              "      <td>Couchbase;MongoDB;MySQL;Or...</td>\n",
              "      <td>Django;Express;Flask;jQuer...</td>\n",
              "      <td>Cordova;Node.js</td>\n",
              "      <td>30.0</td>\n",
              "      <td>Ukraine</td>\n",
              "      <td>10,000 or more employees</td>\n",
              "    </tr>\n",
              "    <tr>\n",
              "      <th>6</th>\n",
              "      <td>7</td>\n",
              "      <td>I am a developer by profes...</td>\n",
              "      <td>No</td>\n",
              "      <td>Never</td>\n",
              "      <td>Independent contractor, fr...</td>\n",
              "      <td>No</td>\n",
              "      <td>Bachelor’s degree (BA, BS,...</td>\n",
              "      <td>Another engineering discip...</td>\n",
              "      <td>Taught yourself a new lang...</td>\n",
              "      <td>NA - I am an independent c...</td>\n",
              "      <td>HTML/CSS;JavaScript</td>\n",
              "      <td>Microsoft SQL Server</td>\n",
              "      <td>React.js</td>\n",
              "      <td>Node.js</td>\n",
              "      <td>42.0</td>\n",
              "      <td>Ukraine</td>\n",
              "      <td>Just me - I am a freelance...</td>\n",
              "    </tr>\n",
              "    <tr>\n",
              "      <th>8</th>\n",
              "      <td>9</td>\n",
              "      <td>I am a developer by profes...</td>\n",
              "      <td>Yes</td>\n",
              "      <td>Once a month or more often</td>\n",
              "      <td>Employed full-time</td>\n",
              "      <td>No</td>\n",
              "      <td>Some college/university st...</td>\n",
              "      <td>Computer science, computer...</td>\n",
              "      <td>Taken an online course in ...</td>\n",
              "      <td>Less than a year ago</td>\n",
              "      <td>Bash/Shell/PowerShell;C#;H...</td>\n",
              "      <td>DynamoDB;PostgreSQL;SQLite</td>\n",
              "      <td>Express;Ruby on Rails;Othe...</td>\n",
              "      <td>Node.js;Unity 3D</td>\n",
              "      <td>23.0</td>\n",
              "      <td>New Zealand</td>\n",
              "      <td>10 to 19 employees</td>\n",
              "    </tr>\n",
              "  </tbody>\n",
              "</table>\n",
              "</div>"
            ],
            "text/plain": [
              "   Respondent                     MainBranch Hobbyist  \\\n",
              "2           3  I am not primarily a devel...      Yes   \n",
              "3           4  I am a developer by profes...       No   \n",
              "4           5  I am a developer by profes...      Yes   \n",
              "6           7  I am a developer by profes...       No   \n",
              "8           9  I am a developer by profes...      Yes   \n",
              "\n",
              "                  OpenSourcer                     Employment Student  \\\n",
              "2                       Never             Employed full-time      No   \n",
              "3                       Never             Employed full-time      No   \n",
              "4  Once a month or more often             Employed full-time      No   \n",
              "6                       Never  Independent contractor, fr...      No   \n",
              "8  Once a month or more often             Employed full-time      No   \n",
              "\n",
              "                         EdLevel                 UndergradMajor  \\\n",
              "2  Bachelor’s degree (BA, BS,...  Web development or web design   \n",
              "3  Bachelor’s degree (BA, BS,...  Computer science, computer...   \n",
              "4  Bachelor’s degree (BA, BS,...  Computer science, computer...   \n",
              "6  Bachelor’s degree (BA, BS,...  Another engineering discip...   \n",
              "8  Some college/university st...  Computer science, computer...   \n",
              "\n",
              "                        EduOther                   LastHireDate  \\\n",
              "2  Taught yourself a new lang...                  1-2 years ago   \n",
              "3  Taken an online course in ...           Less than a year ago   \n",
              "4  Taken an online course in ...           Less than a year ago   \n",
              "6  Taught yourself a new lang...  NA - I am an independent c...   \n",
              "8  Taken an online course in ...           Less than a year ago   \n",
              "\n",
              "              LanguageWorkedWith             DatabaseWorkedWith  \\\n",
              "2                       HTML/CSS                     PostgreSQL   \n",
              "3            C;C++;C#;Python;SQL                   MySQL;SQLite   \n",
              "4  C++;HTML/CSS;Java;JavaScri...  Couchbase;MongoDB;MySQL;Or...   \n",
              "6            HTML/CSS;JavaScript           Microsoft SQL Server   \n",
              "8  Bash/Shell/PowerShell;C#;H...     DynamoDB;PostgreSQL;SQLite   \n",
              "\n",
              "              WebFrameWorkedWith MiscTechWorkedWith   Age        Country  \\\n",
              "2                         jQuery            Node.js  28.0       Thailand   \n",
              "3                         jQuery               .NET  22.0  United States   \n",
              "4  Django;Express;Flask;jQuer...    Cordova;Node.js  30.0        Ukraine   \n",
              "6                       React.js            Node.js  42.0        Ukraine   \n",
              "8  Express;Ruby on Rails;Othe...   Node.js;Unity 3D  23.0    New Zealand   \n",
              "\n",
              "                         OrgSize  \n",
              "2           100 to 499 employees  \n",
              "3           100 to 499 employees  \n",
              "4       10,000 or more employees  \n",
              "6  Just me - I am a freelance...  \n",
              "8             10 to 19 employees  "
            ]
          },
          "metadata": {
            "tags": []
          },
          "execution_count": 10
        }
      ]
    }
  ]
}