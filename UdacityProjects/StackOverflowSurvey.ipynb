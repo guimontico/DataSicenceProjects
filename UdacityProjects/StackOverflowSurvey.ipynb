{
  "nbformat": 4,
  "nbformat_minor": 0,
  "metadata": {
    "colab": {
      "name": "StackOverflowSurvey.ipynb",
      "provenance": [],
      "collapsed_sections": [
        "-ebLR1qtK_ri",
        "a1Z9EddrKvMG"
      ],
      "mount_file_id": "13fRGAXyfjzwb49WRncaEeby9VFCxzJVA",
      "authorship_tag": "ABX9TyPz9fbHisHw7Is7zbUgOjWR",
      "include_colab_link": true
    },
    "kernelspec": {
      "name": "python3",
      "display_name": "Python 3"
    }
  },
  "cells": [
    {
      "cell_type": "markdown",
      "metadata": {
        "id": "view-in-github",
        "colab_type": "text"
      },
      "source": [
        "<a href=\"https://colab.research.google.com/github/guimontico/DataSicenceProjects/blob/master/UdacityProjects/StackOverflowSurvey.ipynb\" target=\"_parent\"><img src=\"https://colab.research.google.com/assets/colab-badge.svg\" alt=\"Open In Colab\"/></a>"
      ]
    },
    {
      "cell_type": "code",
      "metadata": {
        "id": "kUFcvzFF4Pgz",
        "colab_type": "code",
        "outputId": "f7511edc-f69c-4890-848b-a71ac4abb6a8",
        "colab": {
          "base_uri": "https://localhost:8080/",
          "height": 34
        }
      },
      "source": [
        "!git init"
      ],
      "execution_count": 0,
      "outputs": [
        {
          "output_type": "stream",
          "text": [
            "Initialized empty Git repository in /content/.git/\n"
          ],
          "name": "stdout"
        }
      ]
    },
    {
      "cell_type": "code",
      "metadata": {
        "id": "Wlp8_vVvQ_Ur",
        "colab_type": "code",
        "colab": {}
      },
      "source": [
        "#Insights based on survey \n",
        "#- Stack Overflow Survey is the most important survey related to development area, so we can find insights as growing technologies, salary diferences and more insights based on questions!"
      ],
      "execution_count": 0,
      "outputs": []
    },
    {
      "cell_type": "code",
      "metadata": {
        "id": "JGxHDRSf6q_N",
        "colab_type": "code",
        "colab": {}
      },
      "source": [
        "#QUESTIONS\n",
        "\n",
        "#what most influences career satisfaction?\n",
        "#What do the people who earn the most salaries have in common among the respondents?(between education, yearcoding and orgSize)\n",
        "#what is needed to enter in a company and the probability?(predicting)"
      ],
      "execution_count": 0,
      "outputs": []
    },
    {
      "cell_type": "markdown",
      "metadata": {
        "id": "-ebLR1qtK_ri",
        "colab_type": "text"
      },
      "source": [
        "###1ºQuestion - #what most influences career satisfaction? (Falta Fazer)"
      ]
    },
    {
      "cell_type": "code",
      "metadata": {
        "id": "a42dvjS546J2",
        "colab_type": "code",
        "outputId": "b38c6531-e0e3-4117-dd40-06a63a2e84ab",
        "colab": {
          "base_uri": "https://localhost:8080/",
          "height": 419
        }
      },
      "source": [
        "total = Stack.isnull().sum().sort_values(ascending = False)\n",
        "percent = (Stack.isnull().sum()/Stack.isnull().count()*100).sort_values(ascending = False)\n",
        "tmp = pd.concat([total, percent], axis=1, keys=['Total', 'Percent'])\n",
        "tmp"
      ],
      "execution_count": 0,
      "outputs": [
        {
          "output_type": "execute_result",
          "data": {
            "text/html": [
              "<div>\n",
              "<style scoped>\n",
              "    .dataframe tbody tr th:only-of-type {\n",
              "        vertical-align: middle;\n",
              "    }\n",
              "\n",
              "    .dataframe tbody tr th {\n",
              "        vertical-align: top;\n",
              "    }\n",
              "\n",
              "    .dataframe thead th {\n",
              "        text-align: right;\n",
              "    }\n",
              "</style>\n",
              "<table border=\"1\" class=\"dataframe\">\n",
              "  <thead>\n",
              "    <tr style=\"text-align: right;\">\n",
              "      <th></th>\n",
              "      <th>Total</th>\n",
              "      <th>Percent</th>\n",
              "    </tr>\n",
              "  </thead>\n",
              "  <tbody>\n",
              "    <tr>\n",
              "      <th>BlockchainOrg</th>\n",
              "      <td>40708</td>\n",
              "      <td>45.799534</td>\n",
              "    </tr>\n",
              "    <tr>\n",
              "      <th>CodeRevHrs</th>\n",
              "      <td>39093</td>\n",
              "      <td>43.982539</td>\n",
              "    </tr>\n",
              "    <tr>\n",
              "      <th>ConvertedComp</th>\n",
              "      <td>33060</td>\n",
              "      <td>37.194964</td>\n",
              "    </tr>\n",
              "    <tr>\n",
              "      <th>CompTotal</th>\n",
              "      <td>32938</td>\n",
              "      <td>37.057705</td>\n",
              "    </tr>\n",
              "    <tr>\n",
              "      <th>MiscTechWorkedWith</th>\n",
              "      <td>29297</td>\n",
              "      <td>32.961309</td>\n",
              "    </tr>\n",
              "    <tr>\n",
              "      <th>...</th>\n",
              "      <td>...</td>\n",
              "      <td>...</td>\n",
              "    </tr>\n",
              "    <tr>\n",
              "      <th>MainBranch</th>\n",
              "      <td>552</td>\n",
              "      <td>0.621041</td>\n",
              "    </tr>\n",
              "    <tr>\n",
              "      <th>Country</th>\n",
              "      <td>132</td>\n",
              "      <td>0.148510</td>\n",
              "    </tr>\n",
              "    <tr>\n",
              "      <th>OpenSourcer</th>\n",
              "      <td>0</td>\n",
              "      <td>0.000000</td>\n",
              "    </tr>\n",
              "    <tr>\n",
              "      <th>Hobbyist</th>\n",
              "      <td>0</td>\n",
              "      <td>0.000000</td>\n",
              "    </tr>\n",
              "    <tr>\n",
              "      <th>Respondent</th>\n",
              "      <td>0</td>\n",
              "      <td>0.000000</td>\n",
              "    </tr>\n",
              "  </tbody>\n",
              "</table>\n",
              "<p>85 rows × 2 columns</p>\n",
              "</div>"
            ],
            "text/plain": [
              "                    Total    Percent\n",
              "BlockchainOrg       40708  45.799534\n",
              "CodeRevHrs          39093  43.982539\n",
              "ConvertedComp       33060  37.194964\n",
              "CompTotal           32938  37.057705\n",
              "MiscTechWorkedWith  29297  32.961309\n",
              "...                   ...        ...\n",
              "MainBranch            552   0.621041\n",
              "Country               132   0.148510\n",
              "OpenSourcer             0   0.000000\n",
              "Hobbyist                0   0.000000\n",
              "Respondent              0   0.000000\n",
              "\n",
              "[85 rows x 2 columns]"
            ]
          },
          "metadata": {
            "tags": []
          },
          "execution_count": 6
        }
      ]
    },
    {
      "cell_type": "code",
      "metadata": {
        "id": "xOBn26aA7nsR",
        "colab_type": "code",
        "outputId": "d1040ae7-ed11-4325-dfdf-61dd8a3becf8",
        "colab": {
          "base_uri": "https://localhost:8080/",
          "height": 403
        }
      },
      "source": [
        "#making a function to plot the missing data\n",
        "def plot_missing_data(start, end, text):\n",
        "    tmp1 = tmp[start:end]\n",
        "    plt.figure(figsize = (16,4))\n",
        "    plt.title('Missing data - percents of missing data (part %s)' % text)\n",
        "    s = sns.barplot(x=tmp1.index,y=tmp1['Percent'])\n",
        "    s.set_xticklabels(s.get_xticklabels(),rotation=90)\n",
        "    plt.show()    \n",
        "    \n",
        "\n",
        "plot_missing_data(0,42,\"I\")"
      ],
      "execution_count": 0,
      "outputs": [
        {
          "output_type": "display_data",
          "data": {
            "image/png": "[encoded data removed]",
            "text/plain": [
              "<Figure size 1152x288 with 1 Axes>"
            ]
          },
          "metadata": {
            "tags": []
          }
        }
      ]
    },
    {
      "cell_type": "code",
      "metadata": {
        "id": "PBqdAaDc738P",
        "colab_type": "code",
        "outputId": "707e5323-091a-4860-8398-64f6e4a80768",
        "colab": {
          "base_uri": "https://localhost:8080/",
          "height": 399
        }
      },
      "source": [
        "plot_missing_data(43,85,\"II\")"
      ],
      "execution_count": 0,
      "outputs": [
        {
          "output_type": "display_data",
          "data": {
            "image/png": "[encoded data removed]",
            "text/plain": [
              "<Figure size 1152x288 with 1 Axes>"
            ]
          },
          "metadata": {
            "tags": []
          }
        }
      ]
    },
    {
      "cell_type": "code",
      "metadata": {
        "id": "EzbnfMggFm6B",
        "colab_type": "code",
        "colab": {}
      },
      "source": [
        "#Here we can see that a big amount of person don't answered about blockchain, being\n",
        "#~40% about what their companies think about blockchain and ~30% about what they think the technology is."
      ],
      "execution_count": 0,
      "outputs": []
    },
    {
      "cell_type": "code",
      "metadata": {
        "id": "2p1vk2lPHy3d",
        "colab_type": "code",
        "outputId": "48a59a6d-ac71-47f9-e587-0115fb53d2a6",
        "colab": {
          "base_uri": "https://localhost:8080/",
          "height": 382
        }
      },
      "source": [
        "#making a function to plot the response for each question using seaborn library\n",
        "def plot_stats(feature, text, size=2):\n",
        "    temp = Stack[feature].dropna().value_counts().head(50)\n",
        "    df1 = pd.DataFrame({feature: temp.index,'Number of respondents': temp.values})\n",
        "    plt.figure(figsize = (8*size,4))\n",
        "    plt.title(text,fontsize=14)\n",
        "    s = sns.barplot(x=feature,y='Number of respondents',data=df1)\n",
        "    s.set_xticklabels(s.get_xticklabels(),rotation=90)\n",
        "    plt.show()   \n",
        "    \n",
        " #plotting the countries of respondents \n",
        "plot_stats('Country','Countries')"
      ],
      "execution_count": 0,
      "outputs": [
        {
          "output_type": "display_data",
          "data": {
            "image/png": "[encoded data removed]",
            "text/plain": [
              "<Figure size 1152x288 with 1 Axes>"
            ]
          },
          "metadata": {
            "tags": []
          }
        }
      ]
    },
    {
      "cell_type": "code",
      "metadata": {
        "id": "tLx-d10fDn3C",
        "colab_type": "code",
        "outputId": "fde09fba-048f-4023-8846-151110f3a41c",
        "colab": {
          "base_uri": "https://localhost:8080/",
          "height": 720
        }
      },
      "source": [
        "#plotting the education Level\n",
        "plot_stats('EdLevel','Formal Education',1)"
      ],
      "execution_count": 0,
      "outputs": [
        {
          "output_type": "display_data",
          "data": {
            "image/png": "[encoded data removed]",
            "text/plain": [
              "<Figure size 576x288 with 1 Axes>"
            ]
          },
          "metadata": {
            "tags": []
          }
        }
      ]
    },
    {
      "cell_type": "code",
      "metadata": {
        "id": "0kAR6s36EmYg",
        "colab_type": "code",
        "colab": {}
      },
      "source": [
        "#most of respondets have a Bachelor's degree but almost evereyone had a education in the field"
      ],
      "execution_count": 0,
      "outputs": []
    },
    {
      "cell_type": "code",
      "metadata": {
        "id": "uJ67KwJRE9lp",
        "colab_type": "code",
        "outputId": "7ddd0b97-5aef-464c-f870-4641caba4789",
        "colab": {
          "base_uri": "https://localhost:8080/",
          "height": 552
        }
      },
      "source": [
        "plot_stats('Employment', 'Employment',1)"
      ],
      "execution_count": 0,
      "outputs": [
        {
          "output_type": "display_data",
          "data": {
            "image/png": "[encoded data removed]",
            "text/plain": [
              "<Figure size 576x288 with 1 Axes>"
            ]
          },
          "metadata": {
            "tags": []
          }
        }
      ]
    },
    {
      "cell_type": "code",
      "metadata": {
        "id": "VMCMhtYhFO6g",
        "colab_type": "code",
        "outputId": "f0945b74-dc8a-4b8e-9cee-486eed427ae3",
        "colab": {
          "base_uri": "https://localhost:8080/",
          "height": 523
        }
      },
      "source": [
        "#e desses verificar o tamanho da empresa (OrgSize)\n",
        "plot_stats('OrgSize', 'OrgSize',1)"
      ],
      "execution_count": 0,
      "outputs": [
        {
          "output_type": "display_data",
          "data": {
            "image/png": "[encoded data removed]",
            "text/plain": [
              "<Figure size 576x288 with 1 Axes>"
            ]
          },
          "metadata": {
            "tags": []
          }
        }
      ]
    },
    {
      "cell_type": "code",
      "metadata": {
        "id": "BZAK9O4Fz3Xy",
        "colab_type": "code",
        "outputId": "a1cdfa46-7ed2-4e7d-cb06-aa3baad40b3b",
        "colab": {
          "base_uri": "https://localhost:8080/",
          "height": 601
        }
      },
      "source": [
        "plot_stats('LanguageDesireNextYear','Language desired next year',2)"
      ],
      "execution_count": 0,
      "outputs": [
        {
          "output_type": "display_data",
          "data": {
            "image/png": "[encoded data removed]",
            "text/plain": [
              "<Figure size 1152x288 with 1 Axes>"
            ]
          },
          "metadata": {
            "tags": []
          }
        }
      ]
    },
    {
      "cell_type": "code",
      "metadata": {
        "id": "DI90qkglN-lS",
        "colab_type": "code",
        "outputId": "dc79f9cc-96c3-4c27-af61-15bd82f0d230",
        "colab": {
          "base_uri": "https://localhost:8080/",
          "height": 204
        }
      },
      "source": [
        "#here we sow that the freelancers work less than who work in a company\n",
        "Stack.groupby('OrgSize').mean()['WorkWeekHrs'].sort_values(ascending=True)"
      ],
      "execution_count": 0,
      "outputs": [
        {
          "output_type": "execute_result",
          "data": {
            "text/plain": [
              "OrgSize\n",
              "Just me - I am a freelancer, sole proprietor, etc.    39.804857\n",
              "5,000 to 9,999 employees                              41.394480\n",
              "2-9 employees                                         41.891389\n",
              "10 to 19 employees                                    41.965610\n",
              "100 to 499 employees                                  42.008382\n",
              "500 to 999 employees                                  42.052999\n",
              "20 to 99 employees                                    42.570876\n",
              "10,000 or more employees                              42.636478\n",
              "1,000 to 4,999 employees                              42.939299\n",
              "Name: WorkWeekHrs, dtype: float64"
            ]
          },
          "metadata": {
            "tags": []
          },
          "execution_count": 16
        }
      ]
    },
    {
      "cell_type": "code",
      "metadata": {
        "id": "WAZZk-FPQcL6",
        "colab_type": "code",
        "outputId": "3febe8b1-b708-4438-ad40-d62dadea64c0",
        "colab": {
          "base_uri": "https://localhost:8080/",
          "height": 204
        }
      },
      "source": [
        "Stack.CompTotal.round(5)\n",
        "Stack.groupby('OrgSize').mean().ConvertedComp.sort_values(ascending=False)"
      ],
      "execution_count": 0,
      "outputs": [
        {
          "output_type": "execute_result",
          "data": {
            "text/plain": [
              "OrgSize\n",
              "10,000 or more employees                              175389.058928\n",
              "5,000 to 9,999 employees                              157500.936252\n",
              "1,000 to 4,999 employees                              143154.719254\n",
              "500 to 999 employees                                  128330.767649\n",
              "100 to 499 employees                                  127505.799209\n",
              "Just me - I am a freelancer, sole proprietor, etc.    113136.930323\n",
              "20 to 99 employees                                    113087.820770\n",
              "2-9 employees                                          96194.104392\n",
              "10 to 19 employees                                     93326.648099\n",
              "Name: ConvertedComp, dtype: float64"
            ]
          },
          "metadata": {
            "tags": []
          },
          "execution_count": 17
        }
      ]
    },
    {
      "cell_type": "code",
      "metadata": {
        "id": "QN7WDl4r94Ci",
        "colab_type": "code",
        "outputId": "3adbf2c4-13d5-49bb-b571-dde3738e8ed0",
        "colab": {
          "base_uri": "https://localhost:8080/",
          "height": 374
        }
      },
      "source": [
        ""
      ],
      "execution_count": 0,
      "outputs": [
        {
          "output_type": "execute_result",
          "data": {
            "text/plain": [
              "Index(['Respondent', 'MainBranch', 'Hobbyist', 'OpenSourcer', 'OpenSource',\n",
              "       'Employment', 'Country', 'Student', 'EdLevel', 'UndergradMajor',\n",
              "       'EduOther', 'OrgSize', 'DevType', 'YearsCode', 'Age1stCode',\n",
              "       'YearsCodePro', 'CareerSat', 'JobSat', 'MgrIdiot', 'MgrMoney',\n",
              "       'MgrWant', 'JobSeek', 'LastHireDate', 'LastInt', 'FizzBuzz',\n",
              "       'JobFactors', 'ResumeUpdate', 'CurrencySymbol', 'CurrencyDesc',\n",
              "       'CompTotal', 'CompFreq', 'ConvertedComp', 'WorkWeekHrs', 'WorkPlan',\n",
              "       'WorkChallenge', 'WorkRemote', 'WorkLoc', 'ImpSyn', 'CodeRev',\n",
              "       'CodeRevHrs', 'UnitTests', 'PurchaseHow', 'PurchaseWhat',\n",
              "       'LanguageWorkedWith', 'LanguageDesireNextYear', 'DatabaseWorkedWith',\n",
              "       'DatabaseDesireNextYear', 'PlatformWorkedWith',\n",
              "       'PlatformDesireNextYear', 'WebFrameWorkedWith',\n",
              "       'WebFrameDesireNextYear', 'MiscTechWorkedWith',\n",
              "       'MiscTechDesireNextYear', 'DevEnviron', 'OpSys', 'Containers',\n",
              "       'BlockchainOrg', 'BlockchainIs', 'BetterLife', 'ITperson', 'OffOn',\n",
              "       'SocialMedia', 'Extraversion', 'ScreenName', 'SOVisit1st',\n",
              "       'SOVisitFreq', 'SOVisitTo', 'SOFindAnswer', 'SOTimeSaved',\n",
              "       'SOHowMuchTime', 'SOAccount', 'SOPartFreq', 'SOJobs', 'EntTeams',\n",
              "       'SOComm', 'WelcomeChange', 'SONewContent', 'Age', 'Gender', 'Trans',\n",
              "       'Sexuality', 'Ethnicity', 'Dependents', 'SurveyLength', 'SurveyEase'],\n",
              "      dtype='object')"
            ]
          },
          "metadata": {
            "tags": []
          },
          "execution_count": 18
        }
      ]
    },
    {
      "cell_type": "code",
      "metadata": {
        "id": "X7qpkkHx81cn",
        "colab_type": "code",
        "outputId": "e5299af1-a31e-4417-c4af-b271f787d28b",
        "colab": {
          "base_uri": "https://localhost:8080/",
          "height": 80
        }
      },
      "source": [
        "# selecting rows\n",
        "pd.set_option('max_colwidth', 400)\n",
        "Schema[Schema['Column'].str.contains(pat = 'WorkPlan') ] "
      ],
      "execution_count": 0,
      "outputs": [
        {
          "output_type": "execute_result",
          "data": {
            "text/html": [
              "<div>\n",
              "<style scoped>\n",
              "    .dataframe tbody tr th:only-of-type {\n",
              "        vertical-align: middle;\n",
              "    }\n",
              "\n",
              "    .dataframe tbody tr th {\n",
              "        vertical-align: top;\n",
              "    }\n",
              "\n",
              "    .dataframe thead th {\n",
              "        text-align: right;\n",
              "    }\n",
              "</style>\n",
              "<table border=\"1\" class=\"dataframe\">\n",
              "  <thead>\n",
              "    <tr style=\"text-align: right;\">\n",
              "      <th></th>\n",
              "      <th>Column</th>\n",
              "      <th>QuestionText</th>\n",
              "    </tr>\n",
              "  </thead>\n",
              "  <tbody>\n",
              "    <tr>\n",
              "      <th>33</th>\n",
              "      <td>WorkPlan</td>\n",
              "      <td>How structured or planned is your work?</td>\n",
              "    </tr>\n",
              "  </tbody>\n",
              "</table>\n",
              "</div>"
            ],
            "text/plain": [
              "      Column                             QuestionText\n",
              "33  WorkPlan  How structured or planned is your work?"
            ]
          },
          "metadata": {
            "tags": []
          },
          "execution_count": 52
        }
      ]
    },
    {
      "cell_type": "markdown",
      "metadata": {
        "id": "a1Z9EddrKvMG",
        "colab_type": "text"
      },
      "source": [
        "###2º question- What do the people who earn the most salaries have in common among the respondents?(education, orgSize) - Falta adicionar os comentários\n",
        "\n"
      ]
    },
    {
      "cell_type": "code",
      "metadata": {
        "id": "D91LcOv4MTRX",
        "colab_type": "code",
        "colab": {}
      },
      "source": [
        "import pandas as pd \n",
        "import numpy as np\n",
        "import matplotlib\n",
        "import matplotlib.pyplot as plt\n",
        "from math import pi\n",
        "import seaborn as sns\n",
        "%matplotlib inline \n",
        "import warnings\n",
        "warnings.simplefilter(\"ignore\", UserWarning)"
      ],
      "execution_count": 0,
      "outputs": []
    },
    {
      "cell_type": "code",
      "metadata": {
        "id": "HPq6XTs8My_W",
        "colab_type": "code",
        "colab": {}
      },
      "source": [
        "Stack = pd.read_csv('/content/drive/My Drive/Data Science Udacity/stackoverflow_dataset/survey_results_public.csv')\n",
        "Schema = pd.read_csv('/content/drive/My Drive/Data Science Udacity/stackoverflow_dataset/survey_results_schema.csv')"
      ],
      "execution_count": 0,
      "outputs": []
    },
    {
      "cell_type": "code",
      "metadata": {
        "id": "NZEFpMexM6qj",
        "colab_type": "code",
        "outputId": "fbb8f855-7ae0-4cb5-c45d-a4c645d1ffe1",
        "colab": {
          "base_uri": "https://localhost:8080/",
          "height": 51
        }
      },
      "source": [
        "print(\"Stack Overflow 2019 Survey -  rows:\", Stack.shape[0],\" columns:\", Stack.shape[1])\n",
        "print(\"Stack Overflow 2019 Survey Schema -  rows:\", Schema.shape[0],\" columns:\", Schema.shape[1])"
      ],
      "execution_count": 0,
      "outputs": [
        {
          "output_type": "stream",
          "text": [
            "Stack Overflow 2019 Survey -  rows: 88883  columns: 85\n",
            "Stack Overflow 2019 Survey Schema -  rows: 85  columns: 2\n"
          ],
          "name": "stdout"
        }
      ]
    },
    {
      "cell_type": "code",
      "metadata": {
        "id": "a2dhzWgpRESG",
        "colab_type": "code",
        "outputId": "565f827f-4ba8-43d7-abc5-fb039527de7d",
        "colab": {
          "base_uri": "https://localhost:8080/",
          "height": 369
        }
      },
      "source": [
        "pd.set_option(\"display.max_columns\", 15)\n",
        "Stack.head()"
      ],
      "execution_count": 0,
      "outputs": [
        {
          "output_type": "execute_result",
          "data": {
            "text/html": [
              "<div>\n",
              "<style scoped>\n",
              "    .dataframe tbody tr th:only-of-type {\n",
              "        vertical-align: middle;\n",
              "    }\n",
              "\n",
              "    .dataframe tbody tr th {\n",
              "        vertical-align: top;\n",
              "    }\n",
              "\n",
              "    .dataframe thead th {\n",
              "        text-align: right;\n",
              "    }\n",
              "</style>\n",
              "<table border=\"1\" class=\"dataframe\">\n",
              "  <thead>\n",
              "    <tr style=\"text-align: right;\">\n",
              "      <th></th>\n",
              "      <th>Respondent</th>\n",
              "      <th>MainBranch</th>\n",
              "      <th>Hobbyist</th>\n",
              "      <th>OpenSourcer</th>\n",
              "      <th>OpenSource</th>\n",
              "      <th>Employment</th>\n",
              "      <th>Country</th>\n",
              "      <th>...</th>\n",
              "      <th>Gender</th>\n",
              "      <th>Trans</th>\n",
              "      <th>Sexuality</th>\n",
              "      <th>Ethnicity</th>\n",
              "      <th>Dependents</th>\n",
              "      <th>SurveyLength</th>\n",
              "      <th>SurveyEase</th>\n",
              "    </tr>\n",
              "  </thead>\n",
              "  <tbody>\n",
              "    <tr>\n",
              "      <th>0</th>\n",
              "      <td>1</td>\n",
              "      <td>I am a student who is learning to code</td>\n",
              "      <td>Yes</td>\n",
              "      <td>Never</td>\n",
              "      <td>The quality of OSS and closed source software ...</td>\n",
              "      <td>Not employed, and not looking for work</td>\n",
              "      <td>United Kingdom</td>\n",
              "      <td>...</td>\n",
              "      <td>Man</td>\n",
              "      <td>No</td>\n",
              "      <td>Straight / Heterosexual</td>\n",
              "      <td>NaN</td>\n",
              "      <td>No</td>\n",
              "      <td>Appropriate in length</td>\n",
              "      <td>Neither easy nor difficult</td>\n",
              "    </tr>\n",
              "    <tr>\n",
              "      <th>1</th>\n",
              "      <td>2</td>\n",
              "      <td>I am a student who is learning to code</td>\n",
              "      <td>No</td>\n",
              "      <td>Less than once per year</td>\n",
              "      <td>The quality of OSS and closed source software ...</td>\n",
              "      <td>Not employed, but looking for work</td>\n",
              "      <td>Bosnia and Herzegovina</td>\n",
              "      <td>...</td>\n",
              "      <td>Man</td>\n",
              "      <td>No</td>\n",
              "      <td>Straight / Heterosexual</td>\n",
              "      <td>NaN</td>\n",
              "      <td>No</td>\n",
              "      <td>Appropriate in length</td>\n",
              "      <td>Neither easy nor difficult</td>\n",
              "    </tr>\n",
              "    <tr>\n",
              "      <th>2</th>\n",
              "      <td>3</td>\n",
              "      <td>I am not primarily a developer, but I write co...</td>\n",
              "      <td>Yes</td>\n",
              "      <td>Never</td>\n",
              "      <td>The quality of OSS and closed source software ...</td>\n",
              "      <td>Employed full-time</td>\n",
              "      <td>Thailand</td>\n",
              "      <td>...</td>\n",
              "      <td>Man</td>\n",
              "      <td>No</td>\n",
              "      <td>Straight / Heterosexual</td>\n",
              "      <td>NaN</td>\n",
              "      <td>Yes</td>\n",
              "      <td>Appropriate in length</td>\n",
              "      <td>Neither easy nor difficult</td>\n",
              "    </tr>\n",
              "    <tr>\n",
              "      <th>3</th>\n",
              "      <td>4</td>\n",
              "      <td>I am a developer by profession</td>\n",
              "      <td>No</td>\n",
              "      <td>Never</td>\n",
              "      <td>The quality of OSS and closed source software ...</td>\n",
              "      <td>Employed full-time</td>\n",
              "      <td>United States</td>\n",
              "      <td>...</td>\n",
              "      <td>Man</td>\n",
              "      <td>No</td>\n",
              "      <td>Straight / Heterosexual</td>\n",
              "      <td>White or of European descent</td>\n",
              "      <td>No</td>\n",
              "      <td>Appropriate in length</td>\n",
              "      <td>Easy</td>\n",
              "    </tr>\n",
              "    <tr>\n",
              "      <th>4</th>\n",
              "      <td>5</td>\n",
              "      <td>I am a developer by profession</td>\n",
              "      <td>Yes</td>\n",
              "      <td>Once a month or more often</td>\n",
              "      <td>OSS is, on average, of HIGHER quality than pro...</td>\n",
              "      <td>Employed full-time</td>\n",
              "      <td>Ukraine</td>\n",
              "      <td>...</td>\n",
              "      <td>Man</td>\n",
              "      <td>No</td>\n",
              "      <td>Straight / Heterosexual</td>\n",
              "      <td>White or of European descent;Multiracial</td>\n",
              "      <td>No</td>\n",
              "      <td>Appropriate in length</td>\n",
              "      <td>Easy</td>\n",
              "    </tr>\n",
              "  </tbody>\n",
              "</table>\n",
              "<p>5 rows × 85 columns</p>\n",
              "</div>"
            ],
            "text/plain": [
              "   Respondent                                         MainBranch Hobbyist  \\\n",
              "0           1             I am a student who is learning to code      Yes   \n",
              "1           2             I am a student who is learning to code       No   \n",
              "2           3  I am not primarily a developer, but I write co...      Yes   \n",
              "3           4                     I am a developer by profession       No   \n",
              "4           5                     I am a developer by profession      Yes   \n",
              "\n",
              "                  OpenSourcer  \\\n",
              "0                       Never   \n",
              "1     Less than once per year   \n",
              "2                       Never   \n",
              "3                       Never   \n",
              "4  Once a month or more often   \n",
              "\n",
              "                                          OpenSource  \\\n",
              "0  The quality of OSS and closed source software ...   \n",
              "1  The quality of OSS and closed source software ...   \n",
              "2  The quality of OSS and closed source software ...   \n",
              "3  The quality of OSS and closed source software ...   \n",
              "4  OSS is, on average, of HIGHER quality than pro...   \n",
              "\n",
              "                               Employment                 Country  ... Gender  \\\n",
              "0  Not employed, and not looking for work          United Kingdom  ...    Man   \n",
              "1      Not employed, but looking for work  Bosnia and Herzegovina  ...    Man   \n",
              "2                      Employed full-time                Thailand  ...    Man   \n",
              "3                      Employed full-time           United States  ...    Man   \n",
              "4                      Employed full-time                 Ukraine  ...    Man   \n",
              "\n",
              "  Trans                Sexuality                                 Ethnicity  \\\n",
              "0    No  Straight / Heterosexual                                       NaN   \n",
              "1    No  Straight / Heterosexual                                       NaN   \n",
              "2    No  Straight / Heterosexual                                       NaN   \n",
              "3    No  Straight / Heterosexual              White or of European descent   \n",
              "4    No  Straight / Heterosexual  White or of European descent;Multiracial   \n",
              "\n",
              "  Dependents           SurveyLength                  SurveyEase  \n",
              "0         No  Appropriate in length  Neither easy nor difficult  \n",
              "1         No  Appropriate in length  Neither easy nor difficult  \n",
              "2        Yes  Appropriate in length  Neither easy nor difficult  \n",
              "3         No  Appropriate in length                        Easy  \n",
              "4         No  Appropriate in length                        Easy  \n",
              "\n",
              "[5 rows x 85 columns]"
            ]
          },
          "metadata": {
            "tags": []
          },
          "execution_count": 6
        }
      ]
    },
    {
      "cell_type": "code",
      "metadata": {
        "id": "6IwL7DK6NKVr",
        "colab_type": "code",
        "outputId": "148f7957-660d-4e08-db27-0fd7cf961c1d",
        "colab": {
          "base_uri": "https://localhost:8080/",
          "height": 328
        }
      },
      "source": [
        "StackSalarybid = pd.DataFrame()\n",
        "StackSalarybid = Stack.groupby('OrgSize').mean().ConvertedComp.sort_values(ascending=False).to_frame(name = 'Salary').reset_index()\n",
        "StackSalarybid"
      ],
      "execution_count": 0,
      "outputs": [
        {
          "output_type": "execute_result",
          "data": {
            "text/html": [
              "<div>\n",
              "<style scoped>\n",
              "    .dataframe tbody tr th:only-of-type {\n",
              "        vertical-align: middle;\n",
              "    }\n",
              "\n",
              "    .dataframe tbody tr th {\n",
              "        vertical-align: top;\n",
              "    }\n",
              "\n",
              "    .dataframe thead th {\n",
              "        text-align: right;\n",
              "    }\n",
              "</style>\n",
              "<table border=\"1\" class=\"dataframe\">\n",
              "  <thead>\n",
              "    <tr style=\"text-align: right;\">\n",
              "      <th></th>\n",
              "      <th>OrgSize</th>\n",
              "      <th>Salary</th>\n",
              "    </tr>\n",
              "  </thead>\n",
              "  <tbody>\n",
              "    <tr>\n",
              "      <th>0</th>\n",
              "      <td>10,000 or more employees</td>\n",
              "      <td>175389.058928</td>\n",
              "    </tr>\n",
              "    <tr>\n",
              "      <th>1</th>\n",
              "      <td>5,000 to 9,999 employees</td>\n",
              "      <td>157500.936252</td>\n",
              "    </tr>\n",
              "    <tr>\n",
              "      <th>2</th>\n",
              "      <td>1,000 to 4,999 employees</td>\n",
              "      <td>143154.719254</td>\n",
              "    </tr>\n",
              "    <tr>\n",
              "      <th>3</th>\n",
              "      <td>500 to 999 employees</td>\n",
              "      <td>128330.767649</td>\n",
              "    </tr>\n",
              "    <tr>\n",
              "      <th>4</th>\n",
              "      <td>100 to 499 employees</td>\n",
              "      <td>127505.799209</td>\n",
              "    </tr>\n",
              "    <tr>\n",
              "      <th>5</th>\n",
              "      <td>Just me - I am a freelancer, sole proprietor, ...</td>\n",
              "      <td>113136.930323</td>\n",
              "    </tr>\n",
              "    <tr>\n",
              "      <th>6</th>\n",
              "      <td>20 to 99 employees</td>\n",
              "      <td>113087.820770</td>\n",
              "    </tr>\n",
              "    <tr>\n",
              "      <th>7</th>\n",
              "      <td>2-9 employees</td>\n",
              "      <td>96194.104392</td>\n",
              "    </tr>\n",
              "    <tr>\n",
              "      <th>8</th>\n",
              "      <td>10 to 19 employees</td>\n",
              "      <td>93326.648099</td>\n",
              "    </tr>\n",
              "  </tbody>\n",
              "</table>\n",
              "</div>"
            ],
            "text/plain": [
              "                                             OrgSize         Salary\n",
              "0                           10,000 or more employees  175389.058928\n",
              "1                           5,000 to 9,999 employees  157500.936252\n",
              "2                           1,000 to 4,999 employees  143154.719254\n",
              "3                               500 to 999 employees  128330.767649\n",
              "4                               100 to 499 employees  127505.799209\n",
              "5  Just me - I am a freelancer, sole proprietor, ...  113136.930323\n",
              "6                                 20 to 99 employees  113087.820770\n",
              "7                                      2-9 employees   96194.104392\n",
              "8                                 10 to 19 employees   93326.648099"
            ]
          },
          "metadata": {
            "tags": []
          },
          "execution_count": 7
        }
      ]
    },
    {
      "cell_type": "code",
      "metadata": {
        "id": "nTE8TvmDTaip",
        "colab_type": "code",
        "colab": {}
      },
      "source": [
        "StackSalarybid.loc[[5],\"OrgSize\"] = 'Freelancer'"
      ],
      "execution_count": 0,
      "outputs": []
    },
    {
      "cell_type": "code",
      "metadata": {
        "id": "dB7Ea-WsToDc",
        "colab_type": "code",
        "outputId": "416435ef-b154-4309-ddb6-d69e13e69ea1",
        "colab": {
          "base_uri": "https://localhost:8080/",
          "height": 328
        }
      },
      "source": [
        "StackSalarybid = StackSalarybid.round(2)\n",
        "StackSalarybid"
      ],
      "execution_count": 0,
      "outputs": [
        {
          "output_type": "execute_result",
          "data": {
            "text/html": [
              "<div>\n",
              "<style scoped>\n",
              "    .dataframe tbody tr th:only-of-type {\n",
              "        vertical-align: middle;\n",
              "    }\n",
              "\n",
              "    .dataframe tbody tr th {\n",
              "        vertical-align: top;\n",
              "    }\n",
              "\n",
              "    .dataframe thead th {\n",
              "        text-align: right;\n",
              "    }\n",
              "</style>\n",
              "<table border=\"1\" class=\"dataframe\">\n",
              "  <thead>\n",
              "    <tr style=\"text-align: right;\">\n",
              "      <th></th>\n",
              "      <th>OrgSize</th>\n",
              "      <th>Salary</th>\n",
              "    </tr>\n",
              "  </thead>\n",
              "  <tbody>\n",
              "    <tr>\n",
              "      <th>0</th>\n",
              "      <td>10,000 or more employees</td>\n",
              "      <td>175389.06</td>\n",
              "    </tr>\n",
              "    <tr>\n",
              "      <th>1</th>\n",
              "      <td>5,000 to 9,999 employees</td>\n",
              "      <td>157500.94</td>\n",
              "    </tr>\n",
              "    <tr>\n",
              "      <th>2</th>\n",
              "      <td>1,000 to 4,999 employees</td>\n",
              "      <td>143154.72</td>\n",
              "    </tr>\n",
              "    <tr>\n",
              "      <th>3</th>\n",
              "      <td>500 to 999 employees</td>\n",
              "      <td>128330.77</td>\n",
              "    </tr>\n",
              "    <tr>\n",
              "      <th>4</th>\n",
              "      <td>100 to 499 employees</td>\n",
              "      <td>127505.80</td>\n",
              "    </tr>\n",
              "    <tr>\n",
              "      <th>5</th>\n",
              "      <td>Freelancer</td>\n",
              "      <td>113136.93</td>\n",
              "    </tr>\n",
              "    <tr>\n",
              "      <th>6</th>\n",
              "      <td>20 to 99 employees</td>\n",
              "      <td>113087.82</td>\n",
              "    </tr>\n",
              "    <tr>\n",
              "      <th>7</th>\n",
              "      <td>2-9 employees</td>\n",
              "      <td>96194.10</td>\n",
              "    </tr>\n",
              "    <tr>\n",
              "      <th>8</th>\n",
              "      <td>10 to 19 employees</td>\n",
              "      <td>93326.65</td>\n",
              "    </tr>\n",
              "  </tbody>\n",
              "</table>\n",
              "</div>"
            ],
            "text/plain": [
              "                    OrgSize     Salary\n",
              "0  10,000 or more employees  175389.06\n",
              "1  5,000 to 9,999 employees  157500.94\n",
              "2  1,000 to 4,999 employees  143154.72\n",
              "3      500 to 999 employees  128330.77\n",
              "4      100 to 499 employees  127505.80\n",
              "5                Freelancer  113136.93\n",
              "6        20 to 99 employees  113087.82\n",
              "7             2-9 employees   96194.10\n",
              "8        10 to 19 employees   93326.65"
            ]
          },
          "metadata": {
            "tags": []
          },
          "execution_count": 9
        }
      ]
    },
    {
      "cell_type": "code",
      "metadata": {
        "id": "qwhGgWnPXfeh",
        "colab_type": "code",
        "colab": {}
      },
      "source": [
        "Stack.ConvertedComp = Stack.ConvertedComp.round(2)"
      ],
      "execution_count": 0,
      "outputs": []
    },
    {
      "cell_type": "code",
      "metadata": {
        "id": "CgHAS1gyXNJx",
        "colab_type": "code",
        "colab": {}
      },
      "source": [
        " StackEdBid = Stack.groupby('EdLevel').mean().ConvertedComp.sort_values(ascending=False).to_frame(name = 'Salary').reset_index()\n",
        " StackEdBid = StackEdBid.round(2)"
      ],
      "execution_count": 0,
      "outputs": []
    },
    {
      "cell_type": "code",
      "metadata": {
        "id": "0vG5VqQIM9Jx",
        "colab_type": "code",
        "outputId": "de5e59b2-6b82-4b14-cbef-05fcbf59f1fa",
        "colab": {
          "base_uri": "https://localhost:8080/",
          "height": 328
        }
      },
      "source": [
        "StackEdBid"
      ],
      "execution_count": 0,
      "outputs": [
        {
          "output_type": "execute_result",
          "data": {
            "text/html": [
              "<div>\n",
              "<style scoped>\n",
              "    .dataframe tbody tr th:only-of-type {\n",
              "        vertical-align: middle;\n",
              "    }\n",
              "\n",
              "    .dataframe tbody tr th {\n",
              "        vertical-align: top;\n",
              "    }\n",
              "\n",
              "    .dataframe thead th {\n",
              "        text-align: right;\n",
              "    }\n",
              "</style>\n",
              "<table border=\"1\" class=\"dataframe\">\n",
              "  <thead>\n",
              "    <tr style=\"text-align: right;\">\n",
              "      <th></th>\n",
              "      <th>EdLevel</th>\n",
              "      <th>Salary</th>\n",
              "    </tr>\n",
              "  </thead>\n",
              "  <tbody>\n",
              "    <tr>\n",
              "      <th>0</th>\n",
              "      <td>Other doctoral degree (Ph.D, Ed.D., etc.)</td>\n",
              "      <td>171504.38</td>\n",
              "    </tr>\n",
              "    <tr>\n",
              "      <th>1</th>\n",
              "      <td>I never completed any formal education</td>\n",
              "      <td>154087.31</td>\n",
              "    </tr>\n",
              "    <tr>\n",
              "      <th>2</th>\n",
              "      <td>Associate degree</td>\n",
              "      <td>146191.28</td>\n",
              "    </tr>\n",
              "    <tr>\n",
              "      <th>3</th>\n",
              "      <td>Bachelor’s degree (BA, BS, B.Eng., etc.)</td>\n",
              "      <td>134966.13</td>\n",
              "    </tr>\n",
              "    <tr>\n",
              "      <th>4</th>\n",
              "      <td>Master’s degree (MA, MS, M.Eng., MBA, etc.)</td>\n",
              "      <td>120712.39</td>\n",
              "    </tr>\n",
              "    <tr>\n",
              "      <th>5</th>\n",
              "      <td>Some college/university study without earning ...</td>\n",
              "      <td>117587.73</td>\n",
              "    </tr>\n",
              "    <tr>\n",
              "      <th>6</th>\n",
              "      <td>Primary/elementary school</td>\n",
              "      <td>95072.55</td>\n",
              "    </tr>\n",
              "    <tr>\n",
              "      <th>7</th>\n",
              "      <td>Professional degree (JD, MD, etc.)</td>\n",
              "      <td>86490.19</td>\n",
              "    </tr>\n",
              "    <tr>\n",
              "      <th>8</th>\n",
              "      <td>Secondary school (e.g. American high school, G...</td>\n",
              "      <td>85330.02</td>\n",
              "    </tr>\n",
              "  </tbody>\n",
              "</table>\n",
              "</div>"
            ],
            "text/plain": [
              "                                             EdLevel     Salary\n",
              "0          Other doctoral degree (Ph.D, Ed.D., etc.)  171504.38\n",
              "1             I never completed any formal education  154087.31\n",
              "2                                   Associate degree  146191.28\n",
              "3           Bachelor’s degree (BA, BS, B.Eng., etc.)  134966.13\n",
              "4        Master’s degree (MA, MS, M.Eng., MBA, etc.)  120712.39\n",
              "5  Some college/university study without earning ...  117587.73\n",
              "6                          Primary/elementary school   95072.55\n",
              "7                 Professional degree (JD, MD, etc.)   86490.19\n",
              "8  Secondary school (e.g. American high school, G...   85330.02"
            ]
          },
          "metadata": {
            "tags": []
          },
          "execution_count": 12
        }
      ]
    },
    {
      "cell_type": "code",
      "metadata": {
        "id": "B6b4woxlZUN1",
        "colab_type": "code",
        "outputId": "6d6866c3-ee20-40a9-eb73-636a4a5777b7",
        "colab": {
          "base_uri": "https://localhost:8080/",
          "height": 328
        }
      },
      "source": [
        "EdLevelCounts = pd.DataFrame()\n",
        "EdLevelCounts = Stack['EdLevel'].value_counts().sort_values(ascending=False).to_frame(name = 'count').reset_index()\n",
        "EdLevelCounts.columns = ['EdLevel','respondents']\n",
        "EdLevelCounts\n"
      ],
      "execution_count": 0,
      "outputs": [
        {
          "output_type": "execute_result",
          "data": {
            "text/html": [
              "<div>\n",
              "<style scoped>\n",
              "    .dataframe tbody tr th:only-of-type {\n",
              "        vertical-align: middle;\n",
              "    }\n",
              "\n",
              "    .dataframe tbody tr th {\n",
              "        vertical-align: top;\n",
              "    }\n",
              "\n",
              "    .dataframe thead th {\n",
              "        text-align: right;\n",
              "    }\n",
              "</style>\n",
              "<table border=\"1\" class=\"dataframe\">\n",
              "  <thead>\n",
              "    <tr style=\"text-align: right;\">\n",
              "      <th></th>\n",
              "      <th>EdLevel</th>\n",
              "      <th>respondents</th>\n",
              "    </tr>\n",
              "  </thead>\n",
              "  <tbody>\n",
              "    <tr>\n",
              "      <th>0</th>\n",
              "      <td>Bachelor’s degree (BA, BS, B.Eng., etc.)</td>\n",
              "      <td>39134</td>\n",
              "    </tr>\n",
              "    <tr>\n",
              "      <th>1</th>\n",
              "      <td>Master’s degree (MA, MS, M.Eng., MBA, etc.)</td>\n",
              "      <td>19569</td>\n",
              "    </tr>\n",
              "    <tr>\n",
              "      <th>2</th>\n",
              "      <td>Some college/university study without earning ...</td>\n",
              "      <td>10502</td>\n",
              "    </tr>\n",
              "    <tr>\n",
              "      <th>3</th>\n",
              "      <td>Secondary school (e.g. American high school, G...</td>\n",
              "      <td>8642</td>\n",
              "    </tr>\n",
              "    <tr>\n",
              "      <th>4</th>\n",
              "      <td>Associate degree</td>\n",
              "      <td>2938</td>\n",
              "    </tr>\n",
              "    <tr>\n",
              "      <th>5</th>\n",
              "      <td>Other doctoral degree (Ph.D, Ed.D., etc.)</td>\n",
              "      <td>2432</td>\n",
              "    </tr>\n",
              "    <tr>\n",
              "      <th>6</th>\n",
              "      <td>Primary/elementary school</td>\n",
              "      <td>1422</td>\n",
              "    </tr>\n",
              "    <tr>\n",
              "      <th>7</th>\n",
              "      <td>Professional degree (JD, MD, etc.)</td>\n",
              "      <td>1198</td>\n",
              "    </tr>\n",
              "    <tr>\n",
              "      <th>8</th>\n",
              "      <td>I never completed any formal education</td>\n",
              "      <td>553</td>\n",
              "    </tr>\n",
              "  </tbody>\n",
              "</table>\n",
              "</div>"
            ],
            "text/plain": [
              "                                             EdLevel  respondents\n",
              "0           Bachelor’s degree (BA, BS, B.Eng., etc.)        39134\n",
              "1        Master’s degree (MA, MS, M.Eng., MBA, etc.)        19569\n",
              "2  Some college/university study without earning ...        10502\n",
              "3  Secondary school (e.g. American high school, G...         8642\n",
              "4                                   Associate degree         2938\n",
              "5          Other doctoral degree (Ph.D, Ed.D., etc.)         2432\n",
              "6                          Primary/elementary school         1422\n",
              "7                 Professional degree (JD, MD, etc.)         1198\n",
              "8             I never completed any formal education          553"
            ]
          },
          "metadata": {
            "tags": []
          },
          "execution_count": 13
        }
      ]
    },
    {
      "cell_type": "code",
      "metadata": {
        "id": "lmJLotkzgNEI",
        "colab_type": "code",
        "colab": {}
      },
      "source": [
        "EdLevelCounts = EdLevelCounts.reindex(sorted(EdLevelCounts.columns), axis=1)\n",
        "StackEdBid = StackEdBid.reindex(sorted(StackEdBid.columns), axis=1)"
      ],
      "execution_count": 0,
      "outputs": []
    },
    {
      "cell_type": "code",
      "metadata": {
        "id": "NKvRnRo8Tal0",
        "colab_type": "code",
        "outputId": "5d4d96d1-dd12-4eb8-d77a-2d277a31cb44",
        "colab": {
          "base_uri": "https://localhost:8080/",
          "height": 328
        }
      },
      "source": [
        "result = pd.merge(EdLevelCounts, StackEdBid, how='left')\n",
        "result"
      ],
      "execution_count": 0,
      "outputs": [
        {
          "output_type": "execute_result",
          "data": {
            "text/html": [
              "<div>\n",
              "<style scoped>\n",
              "    .dataframe tbody tr th:only-of-type {\n",
              "        vertical-align: middle;\n",
              "    }\n",
              "\n",
              "    .dataframe tbody tr th {\n",
              "        vertical-align: top;\n",
              "    }\n",
              "\n",
              "    .dataframe thead th {\n",
              "        text-align: right;\n",
              "    }\n",
              "</style>\n",
              "<table border=\"1\" class=\"dataframe\">\n",
              "  <thead>\n",
              "    <tr style=\"text-align: right;\">\n",
              "      <th></th>\n",
              "      <th>EdLevel</th>\n",
              "      <th>respondents</th>\n",
              "      <th>Salary</th>\n",
              "    </tr>\n",
              "  </thead>\n",
              "  <tbody>\n",
              "    <tr>\n",
              "      <th>0</th>\n",
              "      <td>Bachelor’s degree (BA, BS, B.Eng., etc.)</td>\n",
              "      <td>39134</td>\n",
              "      <td>134966.13</td>\n",
              "    </tr>\n",
              "    <tr>\n",
              "      <th>1</th>\n",
              "      <td>Master’s degree (MA, MS, M.Eng., MBA, etc.)</td>\n",
              "      <td>19569</td>\n",
              "      <td>120712.39</td>\n",
              "    </tr>\n",
              "    <tr>\n",
              "      <th>2</th>\n",
              "      <td>Some college/university study without earning ...</td>\n",
              "      <td>10502</td>\n",
              "      <td>117587.73</td>\n",
              "    </tr>\n",
              "    <tr>\n",
              "      <th>3</th>\n",
              "      <td>Secondary school (e.g. American high school, G...</td>\n",
              "      <td>8642</td>\n",
              "      <td>85330.02</td>\n",
              "    </tr>\n",
              "    <tr>\n",
              "      <th>4</th>\n",
              "      <td>Associate degree</td>\n",
              "      <td>2938</td>\n",
              "      <td>146191.28</td>\n",
              "    </tr>\n",
              "    <tr>\n",
              "      <th>5</th>\n",
              "      <td>Other doctoral degree (Ph.D, Ed.D., etc.)</td>\n",
              "      <td>2432</td>\n",
              "      <td>171504.38</td>\n",
              "    </tr>\n",
              "    <tr>\n",
              "      <th>6</th>\n",
              "      <td>Primary/elementary school</td>\n",
              "      <td>1422</td>\n",
              "      <td>95072.55</td>\n",
              "    </tr>\n",
              "    <tr>\n",
              "      <th>7</th>\n",
              "      <td>Professional degree (JD, MD, etc.)</td>\n",
              "      <td>1198</td>\n",
              "      <td>86490.19</td>\n",
              "    </tr>\n",
              "    <tr>\n",
              "      <th>8</th>\n",
              "      <td>I never completed any formal education</td>\n",
              "      <td>553</td>\n",
              "      <td>154087.31</td>\n",
              "    </tr>\n",
              "  </tbody>\n",
              "</table>\n",
              "</div>"
            ],
            "text/plain": [
              "                                             EdLevel  respondents     Salary\n",
              "0           Bachelor’s degree (BA, BS, B.Eng., etc.)        39134  134966.13\n",
              "1        Master’s degree (MA, MS, M.Eng., MBA, etc.)        19569  120712.39\n",
              "2  Some college/university study without earning ...        10502  117587.73\n",
              "3  Secondary school (e.g. American high school, G...         8642   85330.02\n",
              "4                                   Associate degree         2938  146191.28\n",
              "5          Other doctoral degree (Ph.D, Ed.D., etc.)         2432  171504.38\n",
              "6                          Primary/elementary school         1422   95072.55\n",
              "7                 Professional degree (JD, MD, etc.)         1198   86490.19\n",
              "8             I never completed any formal education          553  154087.31"
            ]
          },
          "metadata": {
            "tags": []
          },
          "execution_count": 15
        }
      ]
    },
    {
      "cell_type": "code",
      "metadata": {
        "id": "S4cVk8tuFBHi",
        "colab_type": "code",
        "outputId": "9e4d4525-517d-474f-e737-063973677ddc",
        "colab": {
          "base_uri": "https://localhost:8080/",
          "height": 382
        }
      },
      "source": [
        "sns.relplot(x=\"respondents\", \n",
        "            y=\"EdLevel\", \n",
        "            hue=\"Salary\", \n",
        "            data=result, \n",
        "            size=\"Salary\", \n",
        "            sizes=(10, 400));"
      ],
      "execution_count": 0,
      "outputs": [
        {
          "output_type": "display_data",
          "data": {
            "image/png": "[encoded data removed]",
            "text/plain": [
              "<Figure size 441.6x360 with 1 Axes>"
            ]
          },
          "metadata": {
            "tags": []
          }
        }
      ]
    },
    {
      "cell_type": "code",
      "metadata": {
        "id": "z7p4IgzsM9xQ",
        "colab_type": "code",
        "outputId": "61d588ef-e45d-400f-bd88-199457f7badf",
        "colab": {
          "base_uri": "https://localhost:8080/",
          "height": 369
        }
      },
      "source": [
        "sns.relplot(x=\"Salary\", \n",
        "            y=\"OrgSize\", \n",
        "            hue=\"Salary\", \n",
        "            data=StackSalarybid, \n",
        "            size=\"Salary\",\n",
        "            sizes=(10, 400));"
      ],
      "execution_count": 0,
      "outputs": [
        {
          "output_type": "display_data",
          "data": {
            "image/png": "[encoded data removed]",
            "text/plain": [
              "<Figure size 441.6x360 with 1 Axes>"
            ]
          },
          "metadata": {
            "tags": []
          }
        }
      ]
    },
    {
      "cell_type": "code",
      "metadata": {
        "id": "1ACShqX9KMVk",
        "colab_type": "code",
        "outputId": "ce2a0106-3a82-4432-a5b8-6ef9b3656db3",
        "colab": {
          "base_uri": "https://localhost:8080/",
          "height": 369
        }
      },
      "source": [
        "sns.catplot(x=\"Salary\", y=\"OrgSize\", kind=\"swarm\",\n",
        "            data=StackSalarybid.query(\"Salary != 3\"));"
      ],
      "execution_count": 0,
      "outputs": [
        {
          "output_type": "display_data",
          "data": {
            "image/png": "[encoded data removed]",
            "text/plain": [
              "<Figure size 360x360 with 1 Axes>"
            ]
          },
          "metadata": {
            "tags": []
          }
        }
      ]
    },
    {
      "cell_type": "markdown",
      "metadata": {
        "id": "6Kg8UcLTTPx2",
        "colab_type": "text"
      },
      "source": [
        "### 3º Question: what is needed to enter in a company and the probability?(predicting)"
      ]
    },
    {
      "cell_type": "code",
      "metadata": {
        "id": "B3xmwUJvTY7n",
        "colab_type": "code",
        "colab": {}
      },
      "source": [
        "import pandas as pd \n",
        "import numpy as np\n",
        "import matplotlib\n",
        "import matplotlib.pyplot as plt\n",
        "import seaborn as sns\n",
        "import warnings\n",
        "from math import pi\n",
        "from sklearn.metrics import accuracy_score\n",
        "from sklearn.model_selection import train_test_split\n",
        "from sklearn.model_selection import cross_val_score, GridSearchCV\n",
        "from sklearn.linear_model import LogisticRegression\n",
        "from sklearn.tree import DecisionTreeClassifier\n",
        "from sklearn import preprocessing\n",
        "from sklearn.ensemble import RandomForestClassifier \n",
        "from string import ascii_letters\n",
        "from collections import defaultdict, Counter\n",
        "%matplotlib inline \n",
        "warnings.simplefilter(\"ignore\", UserWarning)\n",
        "pd.options.mode.use_inf_as_na = True\n",
        "pd.set_option(\"display.max_columns\", 150)\n",
        "pd.set_option(\"display.max_colwidth\", 30)   "
      ],
      "execution_count": 0,
      "outputs": []
    },
    {
      "cell_type": "code",
      "metadata": {
        "id": "SsCrWmBATfHO",
        "colab_type": "code",
        "colab": {}
      },
      "source": [
        "Stack = pd.read_csv('/content/drive/My Drive/Data Science Udacity/stackoverflow_dataset/survey_results_public.csv')\n",
        "Schema = pd.read_csv('/content/drive/My Drive/Data Science Udacity/stackoverflow_dataset/survey_results_schema.csv')"
      ],
      "execution_count": 0,
      "outputs": []
    },
    {
      "cell_type": "code",
      "metadata": {
        "colab_type": "code",
        "outputId": "854039b2-baa4-417d-d309-081bdfac90b7",
        "id": "HinT-5WtWLYy",
        "colab": {
          "base_uri": "https://localhost:8080/",
          "height": 34
        }
      },
      "source": [
        "Stack.dropna(subset = [\"OrgSize\"], inplace=True)\n",
        "print(Stack.shape)"
      ],
      "execution_count": 0,
      "outputs": [
        {
          "output_type": "stream",
          "text": [
            "(71791, 85)\n"
          ],
          "name": "stdout"
        }
      ]
    },
    {
      "cell_type": "code",
      "metadata": {
        "id": "WPF1YcaZcDpv",
        "colab_type": "code",
        "outputId": "73eba9c2-07c2-434f-bc03-58d87a3432cb",
        "colab": {
          "base_uri": "https://localhost:8080/",
          "height": 34
        }
      },
      "source": [
        "Stack['OrgSize'].isnull().sum()"
      ],
      "execution_count": 0,
      "outputs": [
        {
          "output_type": "execute_result",
          "data": {
            "text/plain": [
              "0"
            ]
          },
          "metadata": {
            "tags": []
          },
          "execution_count": 4
        }
      ]
    },
    {
      "cell_type": "code",
      "metadata": {
        "id": "Otk5VZJeX7Mc",
        "colab_type": "code",
        "outputId": "b1d12632-c556-4b19-bd0b-e9a05f5bad87",
        "colab": {
          "base_uri": "https://localhost:8080/",
          "height": 68
        }
      },
      "source": [
        "#print(df2.head())\n",
        "searchfor = ['hobby', 'longer']\n",
        "Stack = Stack[~Stack.MainBranch.str.contains('|'.join(searchfor), na=False)]\n",
        "print(Stack.MainBranch.value_counts())"
      ],
      "execution_count": 0,
      "outputs": [
        {
          "output_type": "stream",
          "text": [
            "I am a developer by profession                                                   62268\n",
            "I am not primarily a developer, but I write code sometimes as part of my work     6847\n",
            "Name: MainBranch, dtype: int64\n"
          ],
          "name": "stdout"
        }
      ]
    },
    {
      "cell_type": "code",
      "metadata": {
        "id": "PsjhFbtfbZ_r",
        "colab_type": "code",
        "colab": {}
      },
      "source": [
        "df = Stack[['Respondent', 'MainBranch', 'Hobbyist', 'OpenSourcer', 'Employment', 'Student', \n",
        "            'EdLevel', 'UndergradMajor', 'EduOther', 'LastHireDate', 'LanguageWorkedWith', \n",
        "            'DatabaseWorkedWith', 'WebFrameWorkedWith', 'MiscTechWorkedWith', 'Age', 'Country', 'ConvertedComp', 'OrgSize']]\n",
        "\n",
        "df = df.fillna(df.mode().iloc[0])\n"
      ],
      "execution_count": 0,
      "outputs": []
    },
    {
      "cell_type": "code",
      "metadata": {
        "id": "2yZWb1irfl8b",
        "colab_type": "code",
        "colab": {}
      },
      "source": [
        "df2 = df.set_index('Respondent')['EduOther'].str.get_dummies(';')\n",
        "df3 = df.set_index('Respondent')['LanguageWorkedWith'].str.get_dummies(';')\n",
        "df4 = df.set_index('Respondent')['DatabaseWorkedWith'].str.get_dummies(';')\n",
        "df5 = df.set_index('Respondent')['WebFrameWorkedWith'].str.get_dummies(';')\n",
        "df6 = df.set_index('Respondent')['MiscTechWorkedWith'].str.get_dummies(';')\n",
        "dfs = [df, df2, df3, df4, df5, df6]"
      ],
      "execution_count": 0,
      "outputs": []
    },
    {
      "cell_type": "code",
      "metadata": {
        "id": "WWdb-FYRiZYZ",
        "colab_type": "code",
        "outputId": "b58bff87-5472-4c22-8d17-ad0eff4e6ef6",
        "colab": {
          "base_uri": "https://localhost:8080/",
          "height": 1000
        }
      },
      "source": [
        "import functools\n",
        "df = df.set_index('Respondent')\n",
        "df.head()"
      ],
      "execution_count": 0,
      "outputs": [
        {
          "output_type": "execute_result",
          "data": {
            "text/html": [
              "<div>\n",
              "<style scoped>\n",
              "    .dataframe tbody tr th:only-of-type {\n",
              "        vertical-align: middle;\n",
              "    }\n",
              "\n",
              "    .dataframe tbody tr th {\n",
              "        vertical-align: top;\n",
              "    }\n",
              "\n",
              "    .dataframe thead th {\n",
              "        text-align: right;\n",
              "    }\n",
              "</style>\n",
              "<table border=\"1\" class=\"dataframe\">\n",
              "  <thead>\n",
              "    <tr style=\"text-align: right;\">\n",
              "      <th></th>\n",
              "      <th>MainBranch</th>\n",
              "      <th>Hobbyist</th>\n",
              "      <th>OpenSourcer</th>\n",
              "      <th>Employment</th>\n",
              "      <th>Student</th>\n",
              "      <th>EdLevel</th>\n",
              "      <th>UndergradMajor</th>\n",
              "      <th>EduOther</th>\n",
              "      <th>LastHireDate</th>\n",
              "      <th>LanguageWorkedWith</th>\n",
              "      <th>DatabaseWorkedWith</th>\n",
              "      <th>WebFrameWorkedWith</th>\n",
              "      <th>MiscTechWorkedWith</th>\n",
              "      <th>Age</th>\n",
              "      <th>Country</th>\n",
              "      <th>ConvertedComp</th>\n",
              "      <th>OrgSize</th>\n",
              "    </tr>\n",
              "    <tr>\n",
              "      <th>Respondent</th>\n",
              "      <th></th>\n",
              "      <th></th>\n",
              "      <th></th>\n",
              "      <th></th>\n",
              "      <th></th>\n",
              "      <th></th>\n",
              "      <th></th>\n",
              "      <th></th>\n",
              "      <th></th>\n",
              "      <th></th>\n",
              "      <th></th>\n",
              "      <th></th>\n",
              "      <th></th>\n",
              "      <th></th>\n",
              "      <th></th>\n",
              "      <th></th>\n",
              "      <th></th>\n",
              "    </tr>\n",
              "  </thead>\n",
              "  <tbody>\n",
              "    <tr>\n",
              "      <th>3</th>\n",
              "      <td>I am not primarily a developer, but I write code sometimes as part of my work</td>\n",
              "      <td>Yes</td>\n",
              "      <td>Never</td>\n",
              "      <td>Employed full-time</td>\n",
              "      <td>No</td>\n",
              "      <td>Bachelor’s degree (BA, BS, B.Eng., etc.)</td>\n",
              "      <td>Web development or web design</td>\n",
              "      <td>Taught yourself a new language, framework, or tool without taking a formal course</td>\n",
              "      <td>1-2 years ago</td>\n",
              "      <td>HTML/CSS</td>\n",
              "      <td>PostgreSQL</td>\n",
              "      <td>jQuery</td>\n",
              "      <td>Node.js</td>\n",
              "      <td>28.0</td>\n",
              "      <td>Thailand</td>\n",
              "      <td>8820.0</td>\n",
              "      <td>100 to 499 employees</td>\n",
              "    </tr>\n",
              "    <tr>\n",
              "      <th>4</th>\n",
              "      <td>I am a developer by profession</td>\n",
              "      <td>No</td>\n",
              "      <td>Never</td>\n",
              "      <td>Employed full-time</td>\n",
              "      <td>No</td>\n",
              "      <td>Bachelor’s degree (BA, BS, B.Eng., etc.)</td>\n",
              "      <td>Computer science, computer engineering, or software engineering</td>\n",
              "      <td>Taken an online course in programming or software development (e.g. a MOOC);Received on-the-job training in software development;Taught yourself a new language, framework, or tool without taking a...</td>\n",
              "      <td>Less than a year ago</td>\n",
              "      <td>C;C++;C#;Python;SQL</td>\n",
              "      <td>MySQL;SQLite</td>\n",
              "      <td>jQuery</td>\n",
              "      <td>.NET</td>\n",
              "      <td>22.0</td>\n",
              "      <td>United States</td>\n",
              "      <td>61000.0</td>\n",
              "      <td>100 to 499 employees</td>\n",
              "    </tr>\n",
              "    <tr>\n",
              "      <th>5</th>\n",
              "      <td>I am a developer by profession</td>\n",
              "      <td>Yes</td>\n",
              "      <td>Once a month or more often</td>\n",
              "      <td>Employed full-time</td>\n",
              "      <td>No</td>\n",
              "      <td>Bachelor’s degree (BA, BS, B.Eng., etc.)</td>\n",
              "      <td>Computer science, computer engineering, or software engineering</td>\n",
              "      <td>Taken an online course in programming or software development (e.g. a MOOC);Received on-the-job training in software development;Taught yourself a new language, framework, or tool without taking a...</td>\n",
              "      <td>Less than a year ago</td>\n",
              "      <td>C++;HTML/CSS;Java;JavaScript;Python;SQL;VBA</td>\n",
              "      <td>Couchbase;MongoDB;MySQL;Oracle;PostgreSQL;SQLite</td>\n",
              "      <td>Django;Express;Flask;jQuery;React.js;Spring</td>\n",
              "      <td>Cordova;Node.js</td>\n",
              "      <td>30.0</td>\n",
              "      <td>Ukraine</td>\n",
              "      <td>2000000.0</td>\n",
              "      <td>10,000 or more employees</td>\n",
              "    </tr>\n",
              "    <tr>\n",
              "      <th>7</th>\n",
              "      <td>I am a developer by profession</td>\n",
              "      <td>No</td>\n",
              "      <td>Never</td>\n",
              "      <td>Independent contractor, freelancer, or self-employed</td>\n",
              "      <td>No</td>\n",
              "      <td>Bachelor’s degree (BA, BS, B.Eng., etc.)</td>\n",
              "      <td>Another engineering discipline (ex. civil, electrical, mechanical)</td>\n",
              "      <td>Taught yourself a new language, framework, or tool without taking a formal course</td>\n",
              "      <td>NA - I am an independent contractor or self employed</td>\n",
              "      <td>HTML/CSS;JavaScript</td>\n",
              "      <td>Microsoft SQL Server</td>\n",
              "      <td>React.js</td>\n",
              "      <td>Node.js</td>\n",
              "      <td>42.0</td>\n",
              "      <td>Ukraine</td>\n",
              "      <td>2000000.0</td>\n",
              "      <td>Just me - I am a freelancer, sole proprietor, etc.</td>\n",
              "    </tr>\n",
              "    <tr>\n",
              "      <th>9</th>\n",
              "      <td>I am a developer by profession</td>\n",
              "      <td>Yes</td>\n",
              "      <td>Once a month or more often</td>\n",
              "      <td>Employed full-time</td>\n",
              "      <td>No</td>\n",
              "      <td>Some college/university study without earning a degree</td>\n",
              "      <td>Computer science, computer engineering, or software engineering</td>\n",
              "      <td>Taken an online course in programming or software development (e.g. a MOOC);Participated in a full-time developer training program or bootcamp;Taken a part-time in-person course in programming or ...</td>\n",
              "      <td>Less than a year ago</td>\n",
              "      <td>Bash/Shell/PowerShell;C#;HTML/CSS;JavaScript;Python;Ruby;Rust;SQL;TypeScript;WebAssembly;Other(s):</td>\n",
              "      <td>DynamoDB;PostgreSQL;SQLite</td>\n",
              "      <td>Express;Ruby on Rails;Other(s):</td>\n",
              "      <td>Node.js;Unity 3D</td>\n",
              "      <td>23.0</td>\n",
              "      <td>New Zealand</td>\n",
              "      <td>95179.0</td>\n",
              "      <td>10 to 19 employees</td>\n",
              "    </tr>\n",
              "  </tbody>\n",
              "</table>\n",
              "</div>"
            ],
            "text/plain": [
              "                                                                               MainBranch  \\\n",
              "Respondent                                                                                  \n",
              "3           I am not primarily a developer, but I write code sometimes as part of my work   \n",
              "4                                                          I am a developer by profession   \n",
              "5                                                          I am a developer by profession   \n",
              "7                                                          I am a developer by profession   \n",
              "9                                                          I am a developer by profession   \n",
              "\n",
              "           Hobbyist                 OpenSourcer  \\\n",
              "Respondent                                        \n",
              "3               Yes                       Never   \n",
              "4                No                       Never   \n",
              "5               Yes  Once a month or more often   \n",
              "7                No                       Never   \n",
              "9               Yes  Once a month or more often   \n",
              "\n",
              "                                                      Employment Student  \\\n",
              "Respondent                                                                 \n",
              "3                                             Employed full-time      No   \n",
              "4                                             Employed full-time      No   \n",
              "5                                             Employed full-time      No   \n",
              "7           Independent contractor, freelancer, or self-employed      No   \n",
              "9                                             Employed full-time      No   \n",
              "\n",
              "                                                           EdLevel  \\\n",
              "Respondent                                                           \n",
              "3                         Bachelor’s degree (BA, BS, B.Eng., etc.)   \n",
              "4                         Bachelor’s degree (BA, BS, B.Eng., etc.)   \n",
              "5                         Bachelor’s degree (BA, BS, B.Eng., etc.)   \n",
              "7                         Bachelor’s degree (BA, BS, B.Eng., etc.)   \n",
              "9           Some college/university study without earning a degree   \n",
              "\n",
              "                                                                UndergradMajor  \\\n",
              "Respondent                                                                       \n",
              "3                                                Web development or web design   \n",
              "4              Computer science, computer engineering, or software engineering   \n",
              "5              Computer science, computer engineering, or software engineering   \n",
              "7           Another engineering discipline (ex. civil, electrical, mechanical)   \n",
              "9              Computer science, computer engineering, or software engineering   \n",
              "\n",
              "                                                                                                                                                                                                           EduOther  \\\n",
              "Respondent                                                                                                                                                                                                            \n",
              "3                                                                                                                                 Taught yourself a new language, framework, or tool without taking a formal course   \n",
              "4           Taken an online course in programming or software development (e.g. a MOOC);Received on-the-job training in software development;Taught yourself a new language, framework, or tool without taking a...   \n",
              "5           Taken an online course in programming or software development (e.g. a MOOC);Received on-the-job training in software development;Taught yourself a new language, framework, or tool without taking a...   \n",
              "7                                                                                                                                 Taught yourself a new language, framework, or tool without taking a formal course   \n",
              "9           Taken an online course in programming or software development (e.g. a MOOC);Participated in a full-time developer training program or bootcamp;Taken a part-time in-person course in programming or ...   \n",
              "\n",
              "                                                    LastHireDate  \\\n",
              "Respondent                                                         \n",
              "3                                                  1-2 years ago   \n",
              "4                                           Less than a year ago   \n",
              "5                                           Less than a year ago   \n",
              "7           NA - I am an independent contractor or self employed   \n",
              "9                                           Less than a year ago   \n",
              "\n",
              "                                                                                            LanguageWorkedWith  \\\n",
              "Respondent                                                                                                       \n",
              "3                                                                                                     HTML/CSS   \n",
              "4                                                                                          C;C++;C#;Python;SQL   \n",
              "5                                                                  C++;HTML/CSS;Java;JavaScript;Python;SQL;VBA   \n",
              "7                                                                                          HTML/CSS;JavaScript   \n",
              "9           Bash/Shell/PowerShell;C#;HTML/CSS;JavaScript;Python;Ruby;Rust;SQL;TypeScript;WebAssembly;Other(s):   \n",
              "\n",
              "                                          DatabaseWorkedWith  \\\n",
              "Respondent                                                     \n",
              "3                                                 PostgreSQL   \n",
              "4                                               MySQL;SQLite   \n",
              "5           Couchbase;MongoDB;MySQL;Oracle;PostgreSQL;SQLite   \n",
              "7                                       Microsoft SQL Server   \n",
              "9                                 DynamoDB;PostgreSQL;SQLite   \n",
              "\n",
              "                                     WebFrameWorkedWith MiscTechWorkedWith  \\\n",
              "Respondent                                                                   \n",
              "3                                                jQuery            Node.js   \n",
              "4                                                jQuery               .NET   \n",
              "5           Django;Express;Flask;jQuery;React.js;Spring    Cordova;Node.js   \n",
              "7                                              React.js            Node.js   \n",
              "9                       Express;Ruby on Rails;Other(s):   Node.js;Unity 3D   \n",
              "\n",
              "             Age        Country  ConvertedComp  \\\n",
              "Respondent                                       \n",
              "3           28.0       Thailand         8820.0   \n",
              "4           22.0  United States        61000.0   \n",
              "5           30.0        Ukraine      2000000.0   \n",
              "7           42.0        Ukraine      2000000.0   \n",
              "9           23.0    New Zealand        95179.0   \n",
              "\n",
              "                                                       OrgSize  \n",
              "Respondent                                                      \n",
              "3                                         100 to 499 employees  \n",
              "4                                         100 to 499 employees  \n",
              "5                                     10,000 or more employees  \n",
              "7           Just me - I am a freelancer, sole proprietor, etc.  \n",
              "9                                           10 to 19 employees  "
            ]
          },
          "metadata": {
            "tags": []
          },
          "execution_count": 115
        }
      ]
    },
    {
      "cell_type": "code",
      "metadata": {
        "id": "_fzZ7uGWcXmI",
        "colab_type": "code",
        "outputId": "6dbc6c96-8e03-46ea-d03b-8aa1feff48fc",
        "colab": {
          "base_uri": "https://localhost:8080/",
          "height": 613
        }
      },
      "source": [
        "#df = df.set_index('Respondent')\n",
        "df_final = functools.reduce(lambda left,right: pd.merge(left,right,on='Respondent'), dfs)\n",
        "df_final.head(3)"
      ],
      "execution_count": 0,
      "outputs": [
        {
          "output_type": "execute_result",
          "data": {
            "text/html": [
              "<div>\n",
              "<style scoped>\n",
              "    .dataframe tbody tr th:only-of-type {\n",
              "        vertical-align: middle;\n",
              "    }\n",
              "\n",
              "    .dataframe tbody tr th {\n",
              "        vertical-align: top;\n",
              "    }\n",
              "\n",
              "    .dataframe thead th {\n",
              "        text-align: right;\n",
              "    }\n",
              "</style>\n",
              "<table border=\"1\" class=\"dataframe\">\n",
              "  <thead>\n",
              "    <tr style=\"text-align: right;\">\n",
              "      <th></th>\n",
              "      <th>Respondent</th>\n",
              "      <th>MainBranch</th>\n",
              "      <th>Hobbyist</th>\n",
              "      <th>OpenSourcer</th>\n",
              "      <th>Employment</th>\n",
              "      <th>Student</th>\n",
              "      <th>EdLevel</th>\n",
              "      <th>UndergradMajor</th>\n",
              "      <th>EduOther</th>\n",
              "      <th>LastHireDate</th>\n",
              "      <th>...</th>\n",
              "      <th>Node.js</th>\n",
              "      <th>Other(s):_y</th>\n",
              "      <th>Pandas</th>\n",
              "      <th>Puppet</th>\n",
              "      <th>React Native</th>\n",
              "      <th>TensorFlow</th>\n",
              "      <th>Torch/PyTorch</th>\n",
              "      <th>Unity 3D</th>\n",
              "      <th>Unreal Engine</th>\n",
              "      <th>Xamarin</th>\n",
              "    </tr>\n",
              "  </thead>\n",
              "  <tbody>\n",
              "    <tr>\n",
              "      <th>0</th>\n",
              "      <td>3</td>\n",
              "      <td>I am not primarily a developer, but I write code sometimes as part of my work</td>\n",
              "      <td>Yes</td>\n",
              "      <td>Never</td>\n",
              "      <td>Employed full-time</td>\n",
              "      <td>No</td>\n",
              "      <td>Bachelor’s degree (BA, BS, B.Eng., etc.)</td>\n",
              "      <td>Web development or web design</td>\n",
              "      <td>Taught yourself a new language, framework, or tool without taking a formal course</td>\n",
              "      <td>1-2 years ago</td>\n",
              "      <td>...</td>\n",
              "      <td>1</td>\n",
              "      <td>0</td>\n",
              "      <td>0</td>\n",
              "      <td>0</td>\n",
              "      <td>0</td>\n",
              "      <td>0</td>\n",
              "      <td>0</td>\n",
              "      <td>0</td>\n",
              "      <td>0</td>\n",
              "      <td>0</td>\n",
              "    </tr>\n",
              "    <tr>\n",
              "      <th>1</th>\n",
              "      <td>4</td>\n",
              "      <td>I am a developer by profession</td>\n",
              "      <td>No</td>\n",
              "      <td>Never</td>\n",
              "      <td>Employed full-time</td>\n",
              "      <td>No</td>\n",
              "      <td>Bachelor’s degree (BA, BS, B.Eng., etc.)</td>\n",
              "      <td>Computer science, computer engineering, or software engineering</td>\n",
              "      <td>Taken an online course in programming or software development (e.g. a MOOC);Received on-the-job training in software development;Taught yourself a new language, framework, or tool without taking a...</td>\n",
              "      <td>Less than a year ago</td>\n",
              "      <td>...</td>\n",
              "      <td>0</td>\n",
              "      <td>0</td>\n",
              "      <td>0</td>\n",
              "      <td>0</td>\n",
              "      <td>0</td>\n",
              "      <td>0</td>\n",
              "      <td>0</td>\n",
              "      <td>0</td>\n",
              "      <td>0</td>\n",
              "      <td>0</td>\n",
              "    </tr>\n",
              "    <tr>\n",
              "      <th>2</th>\n",
              "      <td>5</td>\n",
              "      <td>I am a developer by profession</td>\n",
              "      <td>Yes</td>\n",
              "      <td>Once a month or more often</td>\n",
              "      <td>Employed full-time</td>\n",
              "      <td>No</td>\n",
              "      <td>Bachelor’s degree (BA, BS, B.Eng., etc.)</td>\n",
              "      <td>Computer science, computer engineering, or software engineering</td>\n",
              "      <td>Taken an online course in programming or software development (e.g. a MOOC);Received on-the-job training in software development;Taught yourself a new language, framework, or tool without taking a...</td>\n",
              "      <td>Less than a year ago</td>\n",
              "      <td>...</td>\n",
              "      <td>1</td>\n",
              "      <td>0</td>\n",
              "      <td>0</td>\n",
              "      <td>0</td>\n",
              "      <td>0</td>\n",
              "      <td>0</td>\n",
              "      <td>0</td>\n",
              "      <td>0</td>\n",
              "      <td>0</td>\n",
              "      <td>0</td>\n",
              "    </tr>\n",
              "  </tbody>\n",
              "</table>\n",
              "<p>3 rows × 101 columns</p>\n",
              "</div>"
            ],
            "text/plain": [
              "   Respondent  \\\n",
              "0           3   \n",
              "1           4   \n",
              "2           5   \n",
              "\n",
              "                                                                      MainBranch  \\\n",
              "0  I am not primarily a developer, but I write code sometimes as part of my work   \n",
              "1                                                 I am a developer by profession   \n",
              "2                                                 I am a developer by profession   \n",
              "\n",
              "  Hobbyist                 OpenSourcer          Employment Student  \\\n",
              "0      Yes                       Never  Employed full-time      No   \n",
              "1       No                       Never  Employed full-time      No   \n",
              "2      Yes  Once a month or more often  Employed full-time      No   \n",
              "\n",
              "                                    EdLevel  \\\n",
              "0  Bachelor’s degree (BA, BS, B.Eng., etc.)   \n",
              "1  Bachelor’s degree (BA, BS, B.Eng., etc.)   \n",
              "2  Bachelor’s degree (BA, BS, B.Eng., etc.)   \n",
              "\n",
              "                                                    UndergradMajor  \\\n",
              "0                                    Web development or web design   \n",
              "1  Computer science, computer engineering, or software engineering   \n",
              "2  Computer science, computer engineering, or software engineering   \n",
              "\n",
              "                                                                                                                                                                                                  EduOther  \\\n",
              "0                                                                                                                        Taught yourself a new language, framework, or tool without taking a formal course   \n",
              "1  Taken an online course in programming or software development (e.g. a MOOC);Received on-the-job training in software development;Taught yourself a new language, framework, or tool without taking a...   \n",
              "2  Taken an online course in programming or software development (e.g. a MOOC);Received on-the-job training in software development;Taught yourself a new language, framework, or tool without taking a...   \n",
              "\n",
              "           LastHireDate  ... Node.js Other(s):_y Pandas Puppet  React Native  \\\n",
              "0         1-2 years ago  ...       1           0      0      0             0   \n",
              "1  Less than a year ago  ...       0           0      0      0             0   \n",
              "2  Less than a year ago  ...       1           0      0      0             0   \n",
              "\n",
              "  TensorFlow  Torch/PyTorch Unity 3D  Unreal Engine  Xamarin  \n",
              "0          0              0        0              0        0  \n",
              "1          0              0        0              0        0  \n",
              "2          0              0        0              0        0  \n",
              "\n",
              "[3 rows x 101 columns]"
            ]
          },
          "metadata": {
            "tags": []
          },
          "execution_count": 116
        }
      ]
    },
    {
      "cell_type": "code",
      "metadata": {
        "colab_type": "code",
        "id": "JU6vlJPtlR54",
        "colab": {}
      },
      "source": [
        ""
      ],
      "execution_count": 0,
      "outputs": []
    },
    {
      "cell_type": "code",
      "metadata": {
        "id": "RfBBbp7PjynS",
        "colab_type": "code",
        "outputId": "f17f5862-50f2-449b-e375-156e768e7b27",
        "colab": {
          "base_uri": "https://localhost:8080/",
          "height": 1000
        }
      },
      "source": [
        "df = df_final.set_index('Respondent')\n",
        "df"
      ],
      "execution_count": 0,
      "outputs": [
        {
          "output_type": "execute_result",
          "data": {
            "text/html": [
              "<div>\n",
              "<style scoped>\n",
              "    .dataframe tbody tr th:only-of-type {\n",
              "        vertical-align: middle;\n",
              "    }\n",
              "\n",
              "    .dataframe tbody tr th {\n",
              "        vertical-align: top;\n",
              "    }\n",
              "\n",
              "    .dataframe thead th {\n",
              "        text-align: right;\n",
              "    }\n",
              "</style>\n",
              "<table border=\"1\" class=\"dataframe\">\n",
              "  <thead>\n",
              "    <tr style=\"text-align: right;\">\n",
              "      <th></th>\n",
              "      <th>MainBranch</th>\n",
              "      <th>Hobbyist</th>\n",
              "      <th>OpenSourcer</th>\n",
              "      <th>Employment</th>\n",
              "      <th>Student</th>\n",
              "      <th>EdLevel</th>\n",
              "      <th>UndergradMajor</th>\n",
              "      <th>EduOther</th>\n",
              "      <th>LastHireDate</th>\n",
              "      <th>LanguageWorkedWith</th>\n",
              "      <th>...</th>\n",
              "      <th>Node.js</th>\n",
              "      <th>Other(s):_y</th>\n",
              "      <th>Pandas</th>\n",
              "      <th>Puppet</th>\n",
              "      <th>React Native</th>\n",
              "      <th>TensorFlow</th>\n",
              "      <th>Torch/PyTorch</th>\n",
              "      <th>Unity 3D</th>\n",
              "      <th>Unreal Engine</th>\n",
              "      <th>Xamarin</th>\n",
              "    </tr>\n",
              "    <tr>\n",
              "      <th>Respondent</th>\n",
              "      <th></th>\n",
              "      <th></th>\n",
              "      <th></th>\n",
              "      <th></th>\n",
              "      <th></th>\n",
              "      <th></th>\n",
              "      <th></th>\n",
              "      <th></th>\n",
              "      <th></th>\n",
              "      <th></th>\n",
              "      <th></th>\n",
              "      <th></th>\n",
              "      <th></th>\n",
              "      <th></th>\n",
              "      <th></th>\n",
              "      <th></th>\n",
              "      <th></th>\n",
              "      <th></th>\n",
              "      <th></th>\n",
              "      <th></th>\n",
              "      <th></th>\n",
              "    </tr>\n",
              "  </thead>\n",
              "  <tbody>\n",
              "    <tr>\n",
              "      <th>3</th>\n",
              "      <td>I am not primarily a developer, but I write code sometimes as part of my work</td>\n",
              "      <td>Yes</td>\n",
              "      <td>Never</td>\n",
              "      <td>Employed full-time</td>\n",
              "      <td>No</td>\n",
              "      <td>Bachelor’s degree (BA, BS, B.Eng., etc.)</td>\n",
              "      <td>Web development or web design</td>\n",
              "      <td>Taught yourself a new language, framework, or tool without taking a formal course</td>\n",
              "      <td>1-2 years ago</td>\n",
              "      <td>HTML/CSS</td>\n",
              "      <td>...</td>\n",
              "      <td>1</td>\n",
              "      <td>0</td>\n",
              "      <td>0</td>\n",
              "      <td>0</td>\n",
              "      <td>0</td>\n",
              "      <td>0</td>\n",
              "      <td>0</td>\n",
              "      <td>0</td>\n",
              "      <td>0</td>\n",
              "      <td>0</td>\n",
              "    </tr>\n",
              "    <tr>\n",
              "      <th>4</th>\n",
              "      <td>I am a developer by profession</td>\n",
              "      <td>No</td>\n",
              "      <td>Never</td>\n",
              "      <td>Employed full-time</td>\n",
              "      <td>No</td>\n",
              "      <td>Bachelor’s degree (BA, BS, B.Eng., etc.)</td>\n",
              "      <td>Computer science, computer engineering, or software engineering</td>\n",
              "      <td>Taken an online course in programming or software development (e.g. a MOOC);Received on-the-job training in software development;Taught yourself a new language, framework, or tool without taking a...</td>\n",
              "      <td>Less than a year ago</td>\n",
              "      <td>C;C++;C#;Python;SQL</td>\n",
              "      <td>...</td>\n",
              "      <td>0</td>\n",
              "      <td>0</td>\n",
              "      <td>0</td>\n",
              "      <td>0</td>\n",
              "      <td>0</td>\n",
              "      <td>0</td>\n",
              "      <td>0</td>\n",
              "      <td>0</td>\n",
              "      <td>0</td>\n",
              "      <td>0</td>\n",
              "    </tr>\n",
              "    <tr>\n",
              "      <th>5</th>\n",
              "      <td>I am a developer by profession</td>\n",
              "      <td>Yes</td>\n",
              "      <td>Once a month or more often</td>\n",
              "      <td>Employed full-time</td>\n",
              "      <td>No</td>\n",
              "      <td>Bachelor’s degree (BA, BS, B.Eng., etc.)</td>\n",
              "      <td>Computer science, computer engineering, or software engineering</td>\n",
              "      <td>Taken an online course in programming or software development (e.g. a MOOC);Received on-the-job training in software development;Taught yourself a new language, framework, or tool without taking a...</td>\n",
              "      <td>Less than a year ago</td>\n",
              "      <td>C++;HTML/CSS;Java;JavaScript;Python;SQL;VBA</td>\n",
              "      <td>...</td>\n",
              "      <td>1</td>\n",
              "      <td>0</td>\n",
              "      <td>0</td>\n",
              "      <td>0</td>\n",
              "      <td>0</td>\n",
              "      <td>0</td>\n",
              "      <td>0</td>\n",
              "      <td>0</td>\n",
              "      <td>0</td>\n",
              "      <td>0</td>\n",
              "    </tr>\n",
              "    <tr>\n",
              "      <th>7</th>\n",
              "      <td>I am a developer by profession</td>\n",
              "      <td>No</td>\n",
              "      <td>Never</td>\n",
              "      <td>Independent contractor, freelancer, or self-employed</td>\n",
              "      <td>No</td>\n",
              "      <td>Bachelor’s degree (BA, BS, B.Eng., etc.)</td>\n",
              "      <td>Another engineering discipline (ex. civil, electrical, mechanical)</td>\n",
              "      <td>Taught yourself a new language, framework, or tool without taking a formal course</td>\n",
              "      <td>NA - I am an independent contractor or self employed</td>\n",
              "      <td>HTML/CSS;JavaScript</td>\n",
              "      <td>...</td>\n",
              "      <td>1</td>\n",
              "      <td>0</td>\n",
              "      <td>0</td>\n",
              "      <td>0</td>\n",
              "      <td>0</td>\n",
              "      <td>0</td>\n",
              "      <td>0</td>\n",
              "      <td>0</td>\n",
              "      <td>0</td>\n",
              "      <td>0</td>\n",
              "    </tr>\n",
              "    <tr>\n",
              "      <th>9</th>\n",
              "      <td>I am a developer by profession</td>\n",
              "      <td>Yes</td>\n",
              "      <td>Once a month or more often</td>\n",
              "      <td>Employed full-time</td>\n",
              "      <td>No</td>\n",
              "      <td>Some college/university study without earning a degree</td>\n",
              "      <td>Computer science, computer engineering, or software engineering</td>\n",
              "      <td>Taken an online course in programming or software development (e.g. a MOOC);Participated in a full-time developer training program or bootcamp;Taken a part-time in-person course in programming or ...</td>\n",
              "      <td>Less than a year ago</td>\n",
              "      <td>Bash/Shell/PowerShell;C#;HTML/CSS;JavaScript;Python;Ruby;Rust;SQL;TypeScript;WebAssembly;Other(s):</td>\n",
              "      <td>...</td>\n",
              "      <td>1</td>\n",
              "      <td>0</td>\n",
              "      <td>0</td>\n",
              "      <td>0</td>\n",
              "      <td>0</td>\n",
              "      <td>0</td>\n",
              "      <td>0</td>\n",
              "      <td>1</td>\n",
              "      <td>0</td>\n",
              "      <td>0</td>\n",
              "    </tr>\n",
              "    <tr>\n",
              "      <th>...</th>\n",
              "      <td>...</td>\n",
              "      <td>...</td>\n",
              "      <td>...</td>\n",
              "      <td>...</td>\n",
              "      <td>...</td>\n",
              "      <td>...</td>\n",
              "      <td>...</td>\n",
              "      <td>...</td>\n",
              "      <td>...</td>\n",
              "      <td>...</td>\n",
              "      <td>...</td>\n",
              "      <td>...</td>\n",
              "      <td>...</td>\n",
              "      <td>...</td>\n",
              "      <td>...</td>\n",
              "      <td>...</td>\n",
              "      <td>...</td>\n",
              "      <td>...</td>\n",
              "      <td>...</td>\n",
              "      <td>...</td>\n",
              "      <td>...</td>\n",
              "    </tr>\n",
              "    <tr>\n",
              "      <th>86012</th>\n",
              "      <td>I am a developer by profession</td>\n",
              "      <td>Yes</td>\n",
              "      <td>Once a month or more often</td>\n",
              "      <td>Employed full-time</td>\n",
              "      <td>No</td>\n",
              "      <td>Master’s degree (MA, MS, M.Eng., MBA, etc.)</td>\n",
              "      <td>Another engineering discipline (ex. civil, electrical, mechanical)</td>\n",
              "      <td>Taught yourself a new language, framework, or tool without taking a formal course</td>\n",
              "      <td>Less than a year ago</td>\n",
              "      <td>Bash/Shell/PowerShell;C++;HTML/CSS;JavaScript</td>\n",
              "      <td>...</td>\n",
              "      <td>1</td>\n",
              "      <td>0</td>\n",
              "      <td>0</td>\n",
              "      <td>0</td>\n",
              "      <td>0</td>\n",
              "      <td>0</td>\n",
              "      <td>0</td>\n",
              "      <td>0</td>\n",
              "      <td>0</td>\n",
              "      <td>0</td>\n",
              "    </tr>\n",
              "    <tr>\n",
              "      <th>86806</th>\n",
              "      <td>I am a developer by profession</td>\n",
              "      <td>Yes</td>\n",
              "      <td>Once a month or more often</td>\n",
              "      <td>Employed part-time</td>\n",
              "      <td>Yes, part-time</td>\n",
              "      <td>Secondary school (e.g. American high school, German Realschule or Gymnasium, etc.)</td>\n",
              "      <td>Computer science, computer engineering, or software engineering</td>\n",
              "      <td>Contributed to open source software</td>\n",
              "      <td>Less than a year ago</td>\n",
              "      <td>C#;HTML/CSS;JavaScript;SQL</td>\n",
              "      <td>...</td>\n",
              "      <td>1</td>\n",
              "      <td>0</td>\n",
              "      <td>0</td>\n",
              "      <td>0</td>\n",
              "      <td>0</td>\n",
              "      <td>0</td>\n",
              "      <td>0</td>\n",
              "      <td>0</td>\n",
              "      <td>0</td>\n",
              "      <td>0</td>\n",
              "    </tr>\n",
              "    <tr>\n",
              "      <th>87739</th>\n",
              "      <td>I am a developer by profession</td>\n",
              "      <td>Yes</td>\n",
              "      <td>Less than once per year</td>\n",
              "      <td>Employed part-time</td>\n",
              "      <td>Yes, full-time</td>\n",
              "      <td>Master’s degree (MA, MS, M.Eng., MBA, etc.)</td>\n",
              "      <td>Computer science, computer engineering, or software engineering</td>\n",
              "      <td>Taught yourself a new language, framework, or tool without taking a formal course;Contributed to open source software</td>\n",
              "      <td>Less than a year ago</td>\n",
              "      <td>C;C++;HTML/CSS;JavaScript;PHP;Python;SQL</td>\n",
              "      <td>...</td>\n",
              "      <td>0</td>\n",
              "      <td>0</td>\n",
              "      <td>0</td>\n",
              "      <td>0</td>\n",
              "      <td>0</td>\n",
              "      <td>1</td>\n",
              "      <td>0</td>\n",
              "      <td>0</td>\n",
              "      <td>0</td>\n",
              "      <td>0</td>\n",
              "    </tr>\n",
              "    <tr>\n",
              "      <th>88182</th>\n",
              "      <td>I am a developer by profession</td>\n",
              "      <td>Yes</td>\n",
              "      <td>Once a month or more often</td>\n",
              "      <td>Employed part-time</td>\n",
              "      <td>No</td>\n",
              "      <td>Secondary school (e.g. American high school, German Realschule or Gymnasium, etc.)</td>\n",
              "      <td>Computer science, computer engineering, or software engineering</td>\n",
              "      <td>Taken an online course in programming or software development (e.g. a MOOC)</td>\n",
              "      <td>Less than a year ago</td>\n",
              "      <td>HTML/CSS;Java;JavaScript</td>\n",
              "      <td>...</td>\n",
              "      <td>0</td>\n",
              "      <td>1</td>\n",
              "      <td>0</td>\n",
              "      <td>0</td>\n",
              "      <td>0</td>\n",
              "      <td>0</td>\n",
              "      <td>0</td>\n",
              "      <td>0</td>\n",
              "      <td>0</td>\n",
              "      <td>0</td>\n",
              "    </tr>\n",
              "    <tr>\n",
              "      <th>88212</th>\n",
              "      <td>I am a developer by profession</td>\n",
              "      <td>No</td>\n",
              "      <td>Less than once per year</td>\n",
              "      <td>Employed full-time</td>\n",
              "      <td>No</td>\n",
              "      <td>Secondary school (e.g. American high school, German Realschule or Gymnasium, etc.)</td>\n",
              "      <td>Computer science, computer engineering, or software engineering</td>\n",
              "      <td>Taught yourself a new language, framework, or tool without taking a formal course</td>\n",
              "      <td>Less than a year ago</td>\n",
              "      <td>HTML/CSS;JavaScript;Python</td>\n",
              "      <td>...</td>\n",
              "      <td>1</td>\n",
              "      <td>0</td>\n",
              "      <td>0</td>\n",
              "      <td>0</td>\n",
              "      <td>0</td>\n",
              "      <td>0</td>\n",
              "      <td>0</td>\n",
              "      <td>0</td>\n",
              "      <td>0</td>\n",
              "      <td>0</td>\n",
              "    </tr>\n",
              "  </tbody>\n",
              "</table>\n",
              "<p>69321 rows × 100 columns</p>\n",
              "</div>"
            ],
            "text/plain": [
              "                                                                               MainBranch  \\\n",
              "Respondent                                                                                  \n",
              "3           I am not primarily a developer, but I write code sometimes as part of my work   \n",
              "4                                                          I am a developer by profession   \n",
              "5                                                          I am a developer by profession   \n",
              "7                                                          I am a developer by profession   \n",
              "9                                                          I am a developer by profession   \n",
              "...                                                                                   ...   \n",
              "86012                                                      I am a developer by profession   \n",
              "86806                                                      I am a developer by profession   \n",
              "87739                                                      I am a developer by profession   \n",
              "88182                                                      I am a developer by profession   \n",
              "88212                                                      I am a developer by profession   \n",
              "\n",
              "           Hobbyist                 OpenSourcer  \\\n",
              "Respondent                                        \n",
              "3               Yes                       Never   \n",
              "4                No                       Never   \n",
              "5               Yes  Once a month or more often   \n",
              "7                No                       Never   \n",
              "9               Yes  Once a month or more often   \n",
              "...             ...                         ...   \n",
              "86012           Yes  Once a month or more often   \n",
              "86806           Yes  Once a month or more often   \n",
              "87739           Yes     Less than once per year   \n",
              "88182           Yes  Once a month or more often   \n",
              "88212            No     Less than once per year   \n",
              "\n",
              "                                                      Employment  \\\n",
              "Respondent                                                         \n",
              "3                                             Employed full-time   \n",
              "4                                             Employed full-time   \n",
              "5                                             Employed full-time   \n",
              "7           Independent contractor, freelancer, or self-employed   \n",
              "9                                             Employed full-time   \n",
              "...                                                          ...   \n",
              "86012                                         Employed full-time   \n",
              "86806                                         Employed part-time   \n",
              "87739                                         Employed part-time   \n",
              "88182                                         Employed part-time   \n",
              "88212                                         Employed full-time   \n",
              "\n",
              "                   Student  \\\n",
              "Respondent                   \n",
              "3                       No   \n",
              "4                       No   \n",
              "5                       No   \n",
              "7                       No   \n",
              "9                       No   \n",
              "...                    ...   \n",
              "86012                   No   \n",
              "86806       Yes, part-time   \n",
              "87739       Yes, full-time   \n",
              "88182                   No   \n",
              "88212                   No   \n",
              "\n",
              "                                                                                       EdLevel  \\\n",
              "Respondent                                                                                       \n",
              "3                                                     Bachelor’s degree (BA, BS, B.Eng., etc.)   \n",
              "4                                                     Bachelor’s degree (BA, BS, B.Eng., etc.)   \n",
              "5                                                     Bachelor’s degree (BA, BS, B.Eng., etc.)   \n",
              "7                                                     Bachelor’s degree (BA, BS, B.Eng., etc.)   \n",
              "9                                       Some college/university study without earning a degree   \n",
              "...                                                                                        ...   \n",
              "86012                                              Master’s degree (MA, MS, M.Eng., MBA, etc.)   \n",
              "86806       Secondary school (e.g. American high school, German Realschule or Gymnasium, etc.)   \n",
              "87739                                              Master’s degree (MA, MS, M.Eng., MBA, etc.)   \n",
              "88182       Secondary school (e.g. American high school, German Realschule or Gymnasium, etc.)   \n",
              "88212       Secondary school (e.g. American high school, German Realschule or Gymnasium, etc.)   \n",
              "\n",
              "                                                                UndergradMajor  \\\n",
              "Respondent                                                                       \n",
              "3                                                Web development or web design   \n",
              "4              Computer science, computer engineering, or software engineering   \n",
              "5              Computer science, computer engineering, or software engineering   \n",
              "7           Another engineering discipline (ex. civil, electrical, mechanical)   \n",
              "9              Computer science, computer engineering, or software engineering   \n",
              "...                                                                        ...   \n",
              "86012       Another engineering discipline (ex. civil, electrical, mechanical)   \n",
              "86806          Computer science, computer engineering, or software engineering   \n",
              "87739          Computer science, computer engineering, or software engineering   \n",
              "88182          Computer science, computer engineering, or software engineering   \n",
              "88212          Computer science, computer engineering, or software engineering   \n",
              "\n",
              "                                                                                                                                                                                                           EduOther  \\\n",
              "Respondent                                                                                                                                                                                                            \n",
              "3                                                                                                                                 Taught yourself a new language, framework, or tool without taking a formal course   \n",
              "4           Taken an online course in programming or software development (e.g. a MOOC);Received on-the-job training in software development;Taught yourself a new language, framework, or tool without taking a...   \n",
              "5           Taken an online course in programming or software development (e.g. a MOOC);Received on-the-job training in software development;Taught yourself a new language, framework, or tool without taking a...   \n",
              "7                                                                                                                                 Taught yourself a new language, framework, or tool without taking a formal course   \n",
              "9           Taken an online course in programming or software development (e.g. a MOOC);Participated in a full-time developer training program or bootcamp;Taken a part-time in-person course in programming or ...   \n",
              "...                                                                                                                                                                                                             ...   \n",
              "86012                                                                                                                             Taught yourself a new language, framework, or tool without taking a formal course   \n",
              "86806                                                                                                                                                                           Contributed to open source software   \n",
              "87739                                                                                         Taught yourself a new language, framework, or tool without taking a formal course;Contributed to open source software   \n",
              "88182                                                                                                                                   Taken an online course in programming or software development (e.g. a MOOC)   \n",
              "88212                                                                                                                             Taught yourself a new language, framework, or tool without taking a formal course   \n",
              "\n",
              "                                                    LastHireDate  \\\n",
              "Respondent                                                         \n",
              "3                                                  1-2 years ago   \n",
              "4                                           Less than a year ago   \n",
              "5                                           Less than a year ago   \n",
              "7           NA - I am an independent contractor or self employed   \n",
              "9                                           Less than a year ago   \n",
              "...                                                          ...   \n",
              "86012                                       Less than a year ago   \n",
              "86806                                       Less than a year ago   \n",
              "87739                                       Less than a year ago   \n",
              "88182                                       Less than a year ago   \n",
              "88212                                       Less than a year ago   \n",
              "\n",
              "                                                                                            LanguageWorkedWith  \\\n",
              "Respondent                                                                                                       \n",
              "3                                                                                                     HTML/CSS   \n",
              "4                                                                                          C;C++;C#;Python;SQL   \n",
              "5                                                                  C++;HTML/CSS;Java;JavaScript;Python;SQL;VBA   \n",
              "7                                                                                          HTML/CSS;JavaScript   \n",
              "9           Bash/Shell/PowerShell;C#;HTML/CSS;JavaScript;Python;Ruby;Rust;SQL;TypeScript;WebAssembly;Other(s):   \n",
              "...                                                                                                        ...   \n",
              "86012                                                            Bash/Shell/PowerShell;C++;HTML/CSS;JavaScript   \n",
              "86806                                                                               C#;HTML/CSS;JavaScript;SQL   \n",
              "87739                                                                 C;C++;HTML/CSS;JavaScript;PHP;Python;SQL   \n",
              "88182                                                                                 HTML/CSS;Java;JavaScript   \n",
              "88212                                                                               HTML/CSS;JavaScript;Python   \n",
              "\n",
              "            ... Node.js Other(s):_y Pandas  Puppet React Native  TensorFlow  \\\n",
              "Respondent  ...                                                               \n",
              "3           ...       1           0      0       0            0           0   \n",
              "4           ...       0           0      0       0            0           0   \n",
              "5           ...       1           0      0       0            0           0   \n",
              "7           ...       1           0      0       0            0           0   \n",
              "9           ...       1           0      0       0            0           0   \n",
              "...         ...     ...         ...    ...     ...          ...         ...   \n",
              "86012       ...       1           0      0       0            0           0   \n",
              "86806       ...       1           0      0       0            0           0   \n",
              "87739       ...       0           0      0       0            0           1   \n",
              "88182       ...       0           1      0       0            0           0   \n",
              "88212       ...       1           0      0       0            0           0   \n",
              "\n",
              "           Torch/PyTorch  Unity 3D  Unreal Engine  Xamarin  \n",
              "Respondent                                                  \n",
              "3                      0         0              0        0  \n",
              "4                      0         0              0        0  \n",
              "5                      0         0              0        0  \n",
              "7                      0         0              0        0  \n",
              "9                      0         1              0        0  \n",
              "...                  ...       ...            ...      ...  \n",
              "86012                  0         0              0        0  \n",
              "86806                  0         0              0        0  \n",
              "87739                  0         0              0        0  \n",
              "88182                  0         0              0        0  \n",
              "88212                  0         0              0        0  \n",
              "\n",
              "[69321 rows x 100 columns]"
            ]
          },
          "metadata": {
            "tags": []
          },
          "execution_count": 117
        }
      ]
    },
    {
      "cell_type": "code",
      "metadata": {
        "id": "oe5zS0wDcjKI",
        "colab_type": "code",
        "outputId": "e5e867d4-53d6-430c-85da-0592436c5e09",
        "colab": {
          "base_uri": "https://localhost:8080/",
          "height": 1000
        }
      },
      "source": [
        "df = df.merge(df2, left_index=True, right_index=True)\n",
        "df.head()"
      ],
      "execution_count": 0,
      "outputs": [
        {
          "output_type": "execute_result",
          "data": {
            "text/html": [
              "<div>\n",
              "<style scoped>\n",
              "    .dataframe tbody tr th:only-of-type {\n",
              "        vertical-align: middle;\n",
              "    }\n",
              "\n",
              "    .dataframe tbody tr th {\n",
              "        vertical-align: top;\n",
              "    }\n",
              "\n",
              "    .dataframe thead th {\n",
              "        text-align: right;\n",
              "    }\n",
              "</style>\n",
              "<table border=\"1\" class=\"dataframe\">\n",
              "  <thead>\n",
              "    <tr style=\"text-align: right;\">\n",
              "      <th></th>\n",
              "      <th>MainBranch</th>\n",
              "      <th>Hobbyist</th>\n",
              "      <th>OpenSourcer</th>\n",
              "      <th>Employment</th>\n",
              "      <th>Student</th>\n",
              "      <th>EdLevel</th>\n",
              "      <th>UndergradMajor</th>\n",
              "      <th>EduOther</th>\n",
              "      <th>LastHireDate</th>\n",
              "      <th>LanguageWorkedWith</th>\n",
              "      <th>...</th>\n",
              "      <th>Xamarin</th>\n",
              "      <th>Completed an industry certification program (e.g. MCPD)_y</th>\n",
              "      <th>Contributed to open source software_y</th>\n",
              "      <th>Participated in a full-time developer training program or bootcamp_y</th>\n",
              "      <th>Participated in a hackathon_y</th>\n",
              "      <th>Participated in online coding competitions (e.g. HackerRank, CodeChef, TopCoder)_y</th>\n",
              "      <th>Received on-the-job training in software development_y</th>\n",
              "      <th>Taken a part-time in-person course in programming or software development_y</th>\n",
              "      <th>Taken an online course in programming or software development (e.g. a MOOC)_y</th>\n",
              "      <th>Taught yourself a new language, framework, or tool without taking a formal course_y</th>\n",
              "    </tr>\n",
              "    <tr>\n",
              "      <th>Respondent</th>\n",
              "      <th></th>\n",
              "      <th></th>\n",
              "      <th></th>\n",
              "      <th></th>\n",
              "      <th></th>\n",
              "      <th></th>\n",
              "      <th></th>\n",
              "      <th></th>\n",
              "      <th></th>\n",
              "      <th></th>\n",
              "      <th></th>\n",
              "      <th></th>\n",
              "      <th></th>\n",
              "      <th></th>\n",
              "      <th></th>\n",
              "      <th></th>\n",
              "      <th></th>\n",
              "      <th></th>\n",
              "      <th></th>\n",
              "      <th></th>\n",
              "      <th></th>\n",
              "    </tr>\n",
              "  </thead>\n",
              "  <tbody>\n",
              "    <tr>\n",
              "      <th>3</th>\n",
              "      <td>I am not primarily a developer, but I write code sometimes as part of my work</td>\n",
              "      <td>Yes</td>\n",
              "      <td>Never</td>\n",
              "      <td>Employed full-time</td>\n",
              "      <td>No</td>\n",
              "      <td>Bachelor’s degree (BA, BS, B.Eng., etc.)</td>\n",
              "      <td>Web development or web design</td>\n",
              "      <td>Taught yourself a new language, framework, or tool without taking a formal course</td>\n",
              "      <td>1-2 years ago</td>\n",
              "      <td>HTML/CSS</td>\n",
              "      <td>...</td>\n",
              "      <td>0</td>\n",
              "      <td>0</td>\n",
              "      <td>0</td>\n",
              "      <td>0</td>\n",
              "      <td>0</td>\n",
              "      <td>0</td>\n",
              "      <td>0</td>\n",
              "      <td>0</td>\n",
              "      <td>0</td>\n",
              "      <td>1</td>\n",
              "    </tr>\n",
              "    <tr>\n",
              "      <th>4</th>\n",
              "      <td>I am a developer by profession</td>\n",
              "      <td>No</td>\n",
              "      <td>Never</td>\n",
              "      <td>Employed full-time</td>\n",
              "      <td>No</td>\n",
              "      <td>Bachelor’s degree (BA, BS, B.Eng., etc.)</td>\n",
              "      <td>Computer science, computer engineering, or software engineering</td>\n",
              "      <td>Taken an online course in programming or software development (e.g. a MOOC);Received on-the-job training in software development;Taught yourself a new language, framework, or tool without taking a...</td>\n",
              "      <td>Less than a year ago</td>\n",
              "      <td>C;C++;C#;Python;SQL</td>\n",
              "      <td>...</td>\n",
              "      <td>0</td>\n",
              "      <td>0</td>\n",
              "      <td>0</td>\n",
              "      <td>0</td>\n",
              "      <td>0</td>\n",
              "      <td>0</td>\n",
              "      <td>1</td>\n",
              "      <td>0</td>\n",
              "      <td>1</td>\n",
              "      <td>1</td>\n",
              "    </tr>\n",
              "    <tr>\n",
              "      <th>5</th>\n",
              "      <td>I am a developer by profession</td>\n",
              "      <td>Yes</td>\n",
              "      <td>Once a month or more often</td>\n",
              "      <td>Employed full-time</td>\n",
              "      <td>No</td>\n",
              "      <td>Bachelor’s degree (BA, BS, B.Eng., etc.)</td>\n",
              "      <td>Computer science, computer engineering, or software engineering</td>\n",
              "      <td>Taken an online course in programming or software development (e.g. a MOOC);Received on-the-job training in software development;Taught yourself a new language, framework, or tool without taking a...</td>\n",
              "      <td>Less than a year ago</td>\n",
              "      <td>C++;HTML/CSS;Java;JavaScript;Python;SQL;VBA</td>\n",
              "      <td>...</td>\n",
              "      <td>0</td>\n",
              "      <td>0</td>\n",
              "      <td>1</td>\n",
              "      <td>0</td>\n",
              "      <td>0</td>\n",
              "      <td>0</td>\n",
              "      <td>1</td>\n",
              "      <td>0</td>\n",
              "      <td>1</td>\n",
              "      <td>1</td>\n",
              "    </tr>\n",
              "    <tr>\n",
              "      <th>7</th>\n",
              "      <td>I am a developer by profession</td>\n",
              "      <td>No</td>\n",
              "      <td>Never</td>\n",
              "      <td>Independent contractor, freelancer, or self-employed</td>\n",
              "      <td>No</td>\n",
              "      <td>Bachelor’s degree (BA, BS, B.Eng., etc.)</td>\n",
              "      <td>Another engineering discipline (ex. civil, electrical, mechanical)</td>\n",
              "      <td>Taught yourself a new language, framework, or tool without taking a formal course</td>\n",
              "      <td>NA - I am an independent contractor or self employed</td>\n",
              "      <td>HTML/CSS;JavaScript</td>\n",
              "      <td>...</td>\n",
              "      <td>0</td>\n",
              "      <td>0</td>\n",
              "      <td>0</td>\n",
              "      <td>0</td>\n",
              "      <td>0</td>\n",
              "      <td>0</td>\n",
              "      <td>0</td>\n",
              "      <td>0</td>\n",
              "      <td>0</td>\n",
              "      <td>1</td>\n",
              "    </tr>\n",
              "    <tr>\n",
              "      <th>9</th>\n",
              "      <td>I am a developer by profession</td>\n",
              "      <td>Yes</td>\n",
              "      <td>Once a month or more often</td>\n",
              "      <td>Employed full-time</td>\n",
              "      <td>No</td>\n",
              "      <td>Some college/university study without earning a degree</td>\n",
              "      <td>Computer science, computer engineering, or software engineering</td>\n",
              "      <td>Taken an online course in programming or software development (e.g. a MOOC);Participated in a full-time developer training program or bootcamp;Taken a part-time in-person course in programming or ...</td>\n",
              "      <td>Less than a year ago</td>\n",
              "      <td>Bash/Shell/PowerShell;C#;HTML/CSS;JavaScript;Python;Ruby;Rust;SQL;TypeScript;WebAssembly;Other(s):</td>\n",
              "      <td>...</td>\n",
              "      <td>0</td>\n",
              "      <td>0</td>\n",
              "      <td>1</td>\n",
              "      <td>1</td>\n",
              "      <td>0</td>\n",
              "      <td>1</td>\n",
              "      <td>1</td>\n",
              "      <td>1</td>\n",
              "      <td>1</td>\n",
              "      <td>1</td>\n",
              "    </tr>\n",
              "  </tbody>\n",
              "</table>\n",
              "<p>5 rows × 109 columns</p>\n",
              "</div>"
            ],
            "text/plain": [
              "                                                                               MainBranch  \\\n",
              "Respondent                                                                                  \n",
              "3           I am not primarily a developer, but I write code sometimes as part of my work   \n",
              "4                                                          I am a developer by profession   \n",
              "5                                                          I am a developer by profession   \n",
              "7                                                          I am a developer by profession   \n",
              "9                                                          I am a developer by profession   \n",
              "\n",
              "           Hobbyist                 OpenSourcer  \\\n",
              "Respondent                                        \n",
              "3               Yes                       Never   \n",
              "4                No                       Never   \n",
              "5               Yes  Once a month or more often   \n",
              "7                No                       Never   \n",
              "9               Yes  Once a month or more often   \n",
              "\n",
              "                                                      Employment Student  \\\n",
              "Respondent                                                                 \n",
              "3                                             Employed full-time      No   \n",
              "4                                             Employed full-time      No   \n",
              "5                                             Employed full-time      No   \n",
              "7           Independent contractor, freelancer, or self-employed      No   \n",
              "9                                             Employed full-time      No   \n",
              "\n",
              "                                                           EdLevel  \\\n",
              "Respondent                                                           \n",
              "3                         Bachelor’s degree (BA, BS, B.Eng., etc.)   \n",
              "4                         Bachelor’s degree (BA, BS, B.Eng., etc.)   \n",
              "5                         Bachelor’s degree (BA, BS, B.Eng., etc.)   \n",
              "7                         Bachelor’s degree (BA, BS, B.Eng., etc.)   \n",
              "9           Some college/university study without earning a degree   \n",
              "\n",
              "                                                                UndergradMajor  \\\n",
              "Respondent                                                                       \n",
              "3                                                Web development or web design   \n",
              "4              Computer science, computer engineering, or software engineering   \n",
              "5              Computer science, computer engineering, or software engineering   \n",
              "7           Another engineering discipline (ex. civil, electrical, mechanical)   \n",
              "9              Computer science, computer engineering, or software engineering   \n",
              "\n",
              "                                                                                                                                                                                                           EduOther  \\\n",
              "Respondent                                                                                                                                                                                                            \n",
              "3                                                                                                                                 Taught yourself a new language, framework, or tool without taking a formal course   \n",
              "4           Taken an online course in programming or software development (e.g. a MOOC);Received on-the-job training in software development;Taught yourself a new language, framework, or tool without taking a...   \n",
              "5           Taken an online course in programming or software development (e.g. a MOOC);Received on-the-job training in software development;Taught yourself a new language, framework, or tool without taking a...   \n",
              "7                                                                                                                                 Taught yourself a new language, framework, or tool without taking a formal course   \n",
              "9           Taken an online course in programming or software development (e.g. a MOOC);Participated in a full-time developer training program or bootcamp;Taken a part-time in-person course in programming or ...   \n",
              "\n",
              "                                                    LastHireDate  \\\n",
              "Respondent                                                         \n",
              "3                                                  1-2 years ago   \n",
              "4                                           Less than a year ago   \n",
              "5                                           Less than a year ago   \n",
              "7           NA - I am an independent contractor or self employed   \n",
              "9                                           Less than a year ago   \n",
              "\n",
              "                                                                                            LanguageWorkedWith  \\\n",
              "Respondent                                                                                                       \n",
              "3                                                                                                     HTML/CSS   \n",
              "4                                                                                          C;C++;C#;Python;SQL   \n",
              "5                                                                  C++;HTML/CSS;Java;JavaScript;Python;SQL;VBA   \n",
              "7                                                                                          HTML/CSS;JavaScript   \n",
              "9           Bash/Shell/PowerShell;C#;HTML/CSS;JavaScript;Python;Ruby;Rust;SQL;TypeScript;WebAssembly;Other(s):   \n",
              "\n",
              "            ... Xamarin  \\\n",
              "Respondent  ...           \n",
              "3           ...       0   \n",
              "4           ...       0   \n",
              "5           ...       0   \n",
              "7           ...       0   \n",
              "9           ...       0   \n",
              "\n",
              "           Completed an industry certification program (e.g. MCPD)_y  \\\n",
              "Respondent                                                             \n",
              "3                                                                  0   \n",
              "4                                                                  0   \n",
              "5                                                                  0   \n",
              "7                                                                  0   \n",
              "9                                                                  0   \n",
              "\n",
              "           Contributed to open source software_y  \\\n",
              "Respondent                                         \n",
              "3                                              0   \n",
              "4                                              0   \n",
              "5                                              1   \n",
              "7                                              0   \n",
              "9                                              1   \n",
              "\n",
              "            Participated in a full-time developer training program or bootcamp_y  \\\n",
              "Respondent                                                                         \n",
              "3                                                                              0   \n",
              "4                                                                              0   \n",
              "5                                                                              0   \n",
              "7                                                                              0   \n",
              "9                                                                              1   \n",
              "\n",
              "           Participated in a hackathon_y  \\\n",
              "Respondent                                 \n",
              "3                                      0   \n",
              "4                                      0   \n",
              "5                                      0   \n",
              "7                                      0   \n",
              "9                                      0   \n",
              "\n",
              "            Participated in online coding competitions (e.g. HackerRank, CodeChef, TopCoder)_y  \\\n",
              "Respondent                                                                                       \n",
              "3                                                                                            0   \n",
              "4                                                                                            0   \n",
              "5                                                                                            0   \n",
              "7                                                                                            0   \n",
              "9                                                                                            1   \n",
              "\n",
              "           Received on-the-job training in software development_y  \\\n",
              "Respondent                                                          \n",
              "3                                                               0   \n",
              "4                                                               1   \n",
              "5                                                               1   \n",
              "7                                                               0   \n",
              "9                                                               1   \n",
              "\n",
              "            Taken a part-time in-person course in programming or software development_y  \\\n",
              "Respondent                                                                                \n",
              "3                                                                                     0   \n",
              "4                                                                                     0   \n",
              "5                                                                                     0   \n",
              "7                                                                                     0   \n",
              "9                                                                                     1   \n",
              "\n",
              "            Taken an online course in programming or software development (e.g. a MOOC)_y  \\\n",
              "Respondent                                                                                  \n",
              "3                                                                                       0   \n",
              "4                                                                                       1   \n",
              "5                                                                                       1   \n",
              "7                                                                                       0   \n",
              "9                                                                                       1   \n",
              "\n",
              "            Taught yourself a new language, framework, or tool without taking a formal course_y  \n",
              "Respondent                                                                                       \n",
              "3                                                                                             1  \n",
              "4                                                                                             1  \n",
              "5                                                                                             1  \n",
              "7                                                                                             1  \n",
              "9                                                                                             1  \n",
              "\n",
              "[5 rows x 109 columns]"
            ]
          },
          "metadata": {
            "tags": []
          },
          "execution_count": 118
        }
      ]
    },
    {
      "cell_type": "code",
      "metadata": {
        "id": "Wvnj8GY5CYAw",
        "colab_type": "code",
        "outputId": "0d28bebe-80ae-408a-e293-2f6e5f7f68ea",
        "colab": {
          "base_uri": "https://localhost:8080/",
          "height": 221
        }
      },
      "source": [
        "df.isnull().sum(axis = 0)"
      ],
      "execution_count": 0,
      "outputs": [
        {
          "output_type": "execute_result",
          "data": {
            "text/plain": [
              "MainBranch                                                                             0\n",
              "Hobbyist                                                                               0\n",
              "OpenSourcer                                                                            0\n",
              "Employment                                                                             0\n",
              "Student                                                                                0\n",
              "                                                                                      ..\n",
              "Participated in online coding competitions (e.g. HackerRank, CodeChef, TopCoder)_y     0\n",
              "Received on-the-job training in software development_y                                 0\n",
              "Taken a part-time in-person course in programming or software development_y            0\n",
              "Taken an online course in programming or software development (e.g. a MOOC)_y          0\n",
              "Taught yourself a new language, framework, or tool without taking a formal course_y    0\n",
              "Length: 109, dtype: int64"
            ]
          },
          "metadata": {
            "tags": []
          },
          "execution_count": 119
        }
      ]
    },
    {
      "cell_type": "code",
      "metadata": {
        "id": "BE9Y6vFcdeyO",
        "colab_type": "code",
        "outputId": "18875674-1da2-4886-c601-3d00aec84a50",
        "colab": {
          "base_uri": "https://localhost:8080/",
          "height": 221
        }
      },
      "source": [
        "df.dtypes"
      ],
      "execution_count": 0,
      "outputs": [
        {
          "output_type": "execute_result",
          "data": {
            "text/plain": [
              "MainBranch                                                                             object\n",
              "Hobbyist                                                                               object\n",
              "OpenSourcer                                                                            object\n",
              "Employment                                                                             object\n",
              "Student                                                                                object\n",
              "                                                                                        ...  \n",
              "Participated in online coding competitions (e.g. HackerRank, CodeChef, TopCoder)_y      int64\n",
              "Received on-the-job training in software development_y                                  int64\n",
              "Taken a part-time in-person course in programming or software development_y             int64\n",
              "Taken an online course in programming or software development (e.g. a MOOC)_y           int64\n",
              "Taught yourself a new language, framework, or tool without taking a formal course_y     int64\n",
              "Length: 109, dtype: object"
            ]
          },
          "metadata": {
            "tags": []
          },
          "execution_count": 120
        }
      ]
    },
    {
      "cell_type": "code",
      "metadata": {
        "id": "kLJgM3D4d7I8",
        "colab_type": "code",
        "colab": {}
      },
      "source": [
        "for column in df:\n",
        "    if df[column].dtype == 'object':\n",
        "       df[column] = df[column].astype(\"category\")\n",
        "df.dtypes"
      ],
      "execution_count": 0,
      "outputs": []
    },
    {
      "cell_type": "code",
      "metadata": {
        "id": "_FaDBrnqCuzZ",
        "colab_type": "code",
        "colab": {}
      },
      "source": [
        "for column in df:\n",
        "    if df[column].dtype != 'int64' and df[column].dtype != 'float64':\n",
        "      print(df[column].dtype)\n",
        "      df[column] = df[column].cat.codes\n",
        "df.head()"
      ],
      "execution_count": 0,
      "outputs": []
    },
    {
      "cell_type": "code",
      "metadata": {
        "id": "td6wlp0lROtq",
        "colab_type": "code",
        "colab": {}
      },
      "source": [
        "df[df.columns[1:]].corr()['OrgSize'][:-1].sort_values()"
      ],
      "execution_count": 0,
      "outputs": []
    },
    {
      "cell_type": "code",
      "metadata": {
        "id": "Iv87eSNWM96-",
        "colab_type": "code",
        "colab": {}
      },
      "source": [
        "sns.set(style=\"white\")\n",
        "\n",
        "# Generate a large random dataset\n",
        "rs = np.random.RandomState(33)\n",
        "d = pd.DataFrame(data=rs.normal(size=(100, 26)),\n",
        "                 columns=list(ascii_letters[26:]))\n",
        "\n",
        "# Compute the correlation matrix\n",
        "corr = df.corr()\n",
        "\n",
        "# Generate a mask for the upper triangle\n",
        "mask = np.triu(np.ones_like(corr, dtype=np.bool))\n",
        "\n",
        "# Set up the matplotlib figure\n",
        "f, ax = plt.subplots(figsize=(11, 9))\n",
        "\n",
        "# Generate a custom diverging colormap\n",
        "cmap = sns.diverging_palette(220, 10, as_cmap=True)\n",
        "\n",
        "# Draw the heatmap with the mask and correct aspect ratio\n",
        "sns.heatmap(corr, mask=mask, cmap=cmap, center=0,\n",
        "            square=True, linewidths=.5)"
      ],
      "execution_count": 0,
      "outputs": []
    },
    {
      "cell_type": "code",
      "metadata": {
        "id": "uF4jmhcWZQur",
        "colab_type": "code",
        "outputId": "b71d2567-907d-4367-b0c4-3146e40a727c",
        "colab": {
          "base_uri": "https://localhost:8080/",
          "height": 1000
        }
      },
      "source": [
        "X_train_original = df.drop(['OrgSize'], axis=1)\n",
        "X_train_original.head()"
      ],
      "execution_count": 0,
      "outputs": [
        {
          "output_type": "execute_result",
          "data": {
            "text/html": [
              "<div>\n",
              "<style scoped>\n",
              "    .dataframe tbody tr th:only-of-type {\n",
              "        vertical-align: middle;\n",
              "    }\n",
              "\n",
              "    .dataframe tbody tr th {\n",
              "        vertical-align: top;\n",
              "    }\n",
              "\n",
              "    .dataframe thead th {\n",
              "        text-align: right;\n",
              "    }\n",
              "</style>\n",
              "<table border=\"1\" class=\"dataframe\">\n",
              "  <thead>\n",
              "    <tr style=\"text-align: right;\">\n",
              "      <th></th>\n",
              "      <th>MainBranch</th>\n",
              "      <th>Hobbyist</th>\n",
              "      <th>OpenSourcer</th>\n",
              "      <th>Employment</th>\n",
              "      <th>Student</th>\n",
              "      <th>EdLevel</th>\n",
              "      <th>UndergradMajor</th>\n",
              "      <th>EduOther</th>\n",
              "      <th>LastHireDate</th>\n",
              "      <th>LanguageWorkedWith</th>\n",
              "      <th>...</th>\n",
              "      <th>Xamarin</th>\n",
              "      <th>Completed an industry certification program (e.g. MCPD)_y</th>\n",
              "      <th>Contributed to open source software_y</th>\n",
              "      <th>Participated in a full-time developer training program or bootcamp_y</th>\n",
              "      <th>Participated in a hackathon_y</th>\n",
              "      <th>Participated in online coding competitions (e.g. HackerRank, CodeChef, TopCoder)_y</th>\n",
              "      <th>Received on-the-job training in software development_y</th>\n",
              "      <th>Taken a part-time in-person course in programming or software development_y</th>\n",
              "      <th>Taken an online course in programming or software development (e.g. a MOOC)_y</th>\n",
              "      <th>Taught yourself a new language, framework, or tool without taking a formal course_y</th>\n",
              "    </tr>\n",
              "    <tr>\n",
              "      <th>Respondent</th>\n",
              "      <th></th>\n",
              "      <th></th>\n",
              "      <th></th>\n",
              "      <th></th>\n",
              "      <th></th>\n",
              "      <th></th>\n",
              "      <th></th>\n",
              "      <th></th>\n",
              "      <th></th>\n",
              "      <th></th>\n",
              "      <th></th>\n",
              "      <th></th>\n",
              "      <th></th>\n",
              "      <th></th>\n",
              "      <th></th>\n",
              "      <th></th>\n",
              "      <th></th>\n",
              "      <th></th>\n",
              "      <th></th>\n",
              "      <th></th>\n",
              "      <th></th>\n",
              "    </tr>\n",
              "  </thead>\n",
              "  <tbody>\n",
              "    <tr>\n",
              "      <th>3</th>\n",
              "      <td>I am not primarily a developer, but I write code sometimes as part of my work</td>\n",
              "      <td>Yes</td>\n",
              "      <td>Never</td>\n",
              "      <td>Employed full-time</td>\n",
              "      <td>No</td>\n",
              "      <td>Bachelor’s degree (BA, BS, B.Eng., etc.)</td>\n",
              "      <td>Web development or web design</td>\n",
              "      <td>Taught yourself a new language, framework, or tool without taking a formal course</td>\n",
              "      <td>1-2 years ago</td>\n",
              "      <td>HTML/CSS</td>\n",
              "      <td>...</td>\n",
              "      <td>0</td>\n",
              "      <td>0</td>\n",
              "      <td>0</td>\n",
              "      <td>0</td>\n",
              "      <td>0</td>\n",
              "      <td>0</td>\n",
              "      <td>0</td>\n",
              "      <td>0</td>\n",
              "      <td>0</td>\n",
              "      <td>1</td>\n",
              "    </tr>\n",
              "    <tr>\n",
              "      <th>4</th>\n",
              "      <td>I am a developer by profession</td>\n",
              "      <td>No</td>\n",
              "      <td>Never</td>\n",
              "      <td>Employed full-time</td>\n",
              "      <td>No</td>\n",
              "      <td>Bachelor’s degree (BA, BS, B.Eng., etc.)</td>\n",
              "      <td>Computer science, computer engineering, or software engineering</td>\n",
              "      <td>Taken an online course in programming or software development (e.g. a MOOC);Received on-the-job training in software development;Taught yourself a new language, framework, or tool without taking a...</td>\n",
              "      <td>Less than a year ago</td>\n",
              "      <td>C;C++;C#;Python;SQL</td>\n",
              "      <td>...</td>\n",
              "      <td>0</td>\n",
              "      <td>0</td>\n",
              "      <td>0</td>\n",
              "      <td>0</td>\n",
              "      <td>0</td>\n",
              "      <td>0</td>\n",
              "      <td>1</td>\n",
              "      <td>0</td>\n",
              "      <td>1</td>\n",
              "      <td>1</td>\n",
              "    </tr>\n",
              "    <tr>\n",
              "      <th>5</th>\n",
              "      <td>I am a developer by profession</td>\n",
              "      <td>Yes</td>\n",
              "      <td>Once a month or more often</td>\n",
              "      <td>Employed full-time</td>\n",
              "      <td>No</td>\n",
              "      <td>Bachelor’s degree (BA, BS, B.Eng., etc.)</td>\n",
              "      <td>Computer science, computer engineering, or software engineering</td>\n",
              "      <td>Taken an online course in programming or software development (e.g. a MOOC);Received on-the-job training in software development;Taught yourself a new language, framework, or tool without taking a...</td>\n",
              "      <td>Less than a year ago</td>\n",
              "      <td>C++;HTML/CSS;Java;JavaScript;Python;SQL;VBA</td>\n",
              "      <td>...</td>\n",
              "      <td>0</td>\n",
              "      <td>0</td>\n",
              "      <td>1</td>\n",
              "      <td>0</td>\n",
              "      <td>0</td>\n",
              "      <td>0</td>\n",
              "      <td>1</td>\n",
              "      <td>0</td>\n",
              "      <td>1</td>\n",
              "      <td>1</td>\n",
              "    </tr>\n",
              "    <tr>\n",
              "      <th>7</th>\n",
              "      <td>I am a developer by profession</td>\n",
              "      <td>No</td>\n",
              "      <td>Never</td>\n",
              "      <td>Independent contractor, freelancer, or self-employed</td>\n",
              "      <td>No</td>\n",
              "      <td>Bachelor’s degree (BA, BS, B.Eng., etc.)</td>\n",
              "      <td>Another engineering discipline (ex. civil, electrical, mechanical)</td>\n",
              "      <td>Taught yourself a new language, framework, or tool without taking a formal course</td>\n",
              "      <td>NA - I am an independent contractor or self employed</td>\n",
              "      <td>HTML/CSS;JavaScript</td>\n",
              "      <td>...</td>\n",
              "      <td>0</td>\n",
              "      <td>0</td>\n",
              "      <td>0</td>\n",
              "      <td>0</td>\n",
              "      <td>0</td>\n",
              "      <td>0</td>\n",
              "      <td>0</td>\n",
              "      <td>0</td>\n",
              "      <td>0</td>\n",
              "      <td>1</td>\n",
              "    </tr>\n",
              "    <tr>\n",
              "      <th>9</th>\n",
              "      <td>I am a developer by profession</td>\n",
              "      <td>Yes</td>\n",
              "      <td>Once a month or more often</td>\n",
              "      <td>Employed full-time</td>\n",
              "      <td>No</td>\n",
              "      <td>Some college/university study without earning a degree</td>\n",
              "      <td>Computer science, computer engineering, or software engineering</td>\n",
              "      <td>Taken an online course in programming or software development (e.g. a MOOC);Participated in a full-time developer training program or bootcamp;Taken a part-time in-person course in programming or ...</td>\n",
              "      <td>Less than a year ago</td>\n",
              "      <td>Bash/Shell/PowerShell;C#;HTML/CSS;JavaScript;Python;Ruby;Rust;SQL;TypeScript;WebAssembly;Other(s):</td>\n",
              "      <td>...</td>\n",
              "      <td>0</td>\n",
              "      <td>0</td>\n",
              "      <td>1</td>\n",
              "      <td>1</td>\n",
              "      <td>0</td>\n",
              "      <td>1</td>\n",
              "      <td>1</td>\n",
              "      <td>1</td>\n",
              "      <td>1</td>\n",
              "      <td>1</td>\n",
              "    </tr>\n",
              "  </tbody>\n",
              "</table>\n",
              "<p>5 rows × 108 columns</p>\n",
              "</div>"
            ],
            "text/plain": [
              "                                                                               MainBranch  \\\n",
              "Respondent                                                                                  \n",
              "3           I am not primarily a developer, but I write code sometimes as part of my work   \n",
              "4                                                          I am a developer by profession   \n",
              "5                                                          I am a developer by profession   \n",
              "7                                                          I am a developer by profession   \n",
              "9                                                          I am a developer by profession   \n",
              "\n",
              "           Hobbyist                 OpenSourcer  \\\n",
              "Respondent                                        \n",
              "3               Yes                       Never   \n",
              "4                No                       Never   \n",
              "5               Yes  Once a month or more often   \n",
              "7                No                       Never   \n",
              "9               Yes  Once a month or more often   \n",
              "\n",
              "                                                      Employment Student  \\\n",
              "Respondent                                                                 \n",
              "3                                             Employed full-time      No   \n",
              "4                                             Employed full-time      No   \n",
              "5                                             Employed full-time      No   \n",
              "7           Independent contractor, freelancer, or self-employed      No   \n",
              "9                                             Employed full-time      No   \n",
              "\n",
              "                                                           EdLevel  \\\n",
              "Respondent                                                           \n",
              "3                         Bachelor’s degree (BA, BS, B.Eng., etc.)   \n",
              "4                         Bachelor’s degree (BA, BS, B.Eng., etc.)   \n",
              "5                         Bachelor’s degree (BA, BS, B.Eng., etc.)   \n",
              "7                         Bachelor’s degree (BA, BS, B.Eng., etc.)   \n",
              "9           Some college/university study without earning a degree   \n",
              "\n",
              "                                                                UndergradMajor  \\\n",
              "Respondent                                                                       \n",
              "3                                                Web development or web design   \n",
              "4              Computer science, computer engineering, or software engineering   \n",
              "5              Computer science, computer engineering, or software engineering   \n",
              "7           Another engineering discipline (ex. civil, electrical, mechanical)   \n",
              "9              Computer science, computer engineering, or software engineering   \n",
              "\n",
              "                                                                                                                                                                                                           EduOther  \\\n",
              "Respondent                                                                                                                                                                                                            \n",
              "3                                                                                                                                 Taught yourself a new language, framework, or tool without taking a formal course   \n",
              "4           Taken an online course in programming or software development (e.g. a MOOC);Received on-the-job training in software development;Taught yourself a new language, framework, or tool without taking a...   \n",
              "5           Taken an online course in programming or software development (e.g. a MOOC);Received on-the-job training in software development;Taught yourself a new language, framework, or tool without taking a...   \n",
              "7                                                                                                                                 Taught yourself a new language, framework, or tool without taking a formal course   \n",
              "9           Taken an online course in programming or software development (e.g. a MOOC);Participated in a full-time developer training program or bootcamp;Taken a part-time in-person course in programming or ...   \n",
              "\n",
              "                                                    LastHireDate  \\\n",
              "Respondent                                                         \n",
              "3                                                  1-2 years ago   \n",
              "4                                           Less than a year ago   \n",
              "5                                           Less than a year ago   \n",
              "7           NA - I am an independent contractor or self employed   \n",
              "9                                           Less than a year ago   \n",
              "\n",
              "                                                                                            LanguageWorkedWith  \\\n",
              "Respondent                                                                                                       \n",
              "3                                                                                                     HTML/CSS   \n",
              "4                                                                                          C;C++;C#;Python;SQL   \n",
              "5                                                                  C++;HTML/CSS;Java;JavaScript;Python;SQL;VBA   \n",
              "7                                                                                          HTML/CSS;JavaScript   \n",
              "9           Bash/Shell/PowerShell;C#;HTML/CSS;JavaScript;Python;Ruby;Rust;SQL;TypeScript;WebAssembly;Other(s):   \n",
              "\n",
              "            ... Xamarin  \\\n",
              "Respondent  ...           \n",
              "3           ...       0   \n",
              "4           ...       0   \n",
              "5           ...       0   \n",
              "7           ...       0   \n",
              "9           ...       0   \n",
              "\n",
              "           Completed an industry certification program (e.g. MCPD)_y  \\\n",
              "Respondent                                                             \n",
              "3                                                                  0   \n",
              "4                                                                  0   \n",
              "5                                                                  0   \n",
              "7                                                                  0   \n",
              "9                                                                  0   \n",
              "\n",
              "           Contributed to open source software_y  \\\n",
              "Respondent                                         \n",
              "3                                              0   \n",
              "4                                              0   \n",
              "5                                              1   \n",
              "7                                              0   \n",
              "9                                              1   \n",
              "\n",
              "            Participated in a full-time developer training program or bootcamp_y  \\\n",
              "Respondent                                                                         \n",
              "3                                                                              0   \n",
              "4                                                                              0   \n",
              "5                                                                              0   \n",
              "7                                                                              0   \n",
              "9                                                                              1   \n",
              "\n",
              "           Participated in a hackathon_y  \\\n",
              "Respondent                                 \n",
              "3                                      0   \n",
              "4                                      0   \n",
              "5                                      0   \n",
              "7                                      0   \n",
              "9                                      0   \n",
              "\n",
              "           Participated in online coding competitions (e.g. HackerRank, CodeChef, TopCoder)_y  \\\n",
              "Respondent                                                                                      \n",
              "3                                                                                           0   \n",
              "4                                                                                           0   \n",
              "5                                                                                           0   \n",
              "7                                                                                           0   \n",
              "9                                                                                           1   \n",
              "\n",
              "            Received on-the-job training in software development_y  \\\n",
              "Respondent                                                           \n",
              "3                                                                0   \n",
              "4                                                                1   \n",
              "5                                                                1   \n",
              "7                                                                0   \n",
              "9                                                                1   \n",
              "\n",
              "            Taken a part-time in-person course in programming or software development_y  \\\n",
              "Respondent                                                                                \n",
              "3                                                                                     0   \n",
              "4                                                                                     0   \n",
              "5                                                                                     0   \n",
              "7                                                                                     0   \n",
              "9                                                                                     1   \n",
              "\n",
              "            Taken an online course in programming or software development (e.g. a MOOC)_y  \\\n",
              "Respondent                                                                                  \n",
              "3                                                                                       0   \n",
              "4                                                                                       1   \n",
              "5                                                                                       1   \n",
              "7                                                                                       0   \n",
              "9                                                                                       1   \n",
              "\n",
              "            Taught yourself a new language, framework, or tool without taking a formal course_y  \n",
              "Respondent                                                                                       \n",
              "3                                                                                             1  \n",
              "4                                                                                             1  \n",
              "5                                                                                             1  \n",
              "7                                                                                             1  \n",
              "9                                                                                             1  \n",
              "\n",
              "[5 rows x 108 columns]"
            ]
          },
          "metadata": {
            "tags": []
          },
          "execution_count": 124
        }
      ]
    },
    {
      "cell_type": "code",
      "metadata": {
        "id": "emSPBf9WZnOB",
        "colab_type": "code",
        "colab": {}
      },
      "source": [
        "y_train_original = Stack[['Respondent', 'OrgSize']].set_index('Respondent')\n",
        "y_train_original.head()"
      ],
      "execution_count": 0,
      "outputs": []
    },
    {
      "cell_type": "code",
      "metadata": {
        "id": "ymkB5C8s-G5E",
        "colab_type": "code",
        "colab": {}
      },
      "source": [
        "X_train, X_test, y_train, y_test = train_test_split(X_train_original, y_train_original, test_size=0.30, random_state=42)"
      ],
      "execution_count": 0,
      "outputs": []
    },
    {
      "cell_type": "code",
      "metadata": {
        "id": "DwhMsLyw-Q7w",
        "colab_type": "code",
        "outputId": "603e733f-7ffb-423a-cc1e-1f9ec8439d78",
        "colab": {
          "base_uri": "https://localhost:8080/",
          "height": 85
        }
      },
      "source": [
        "print(X_train.shape)\n",
        "print( X_test.shape)\n",
        "print(y_train.shape)\n",
        "print(y_test.shape)"
      ],
      "execution_count": 0,
      "outputs": [
        {
          "output_type": "stream",
          "text": [
            "(48524, 108)\n",
            "(20797, 108)\n",
            "(48524, 1)\n",
            "(20797, 1)\n"
          ],
          "name": "stdout"
        }
      ]
    },
    {
      "cell_type": "code",
      "metadata": {
        "id": "5GNmuG5ufdd5",
        "colab_type": "code",
        "colab": {}
      },
      "source": [
        "pd.value_counts(y_train_original.OrgSize, normalize = True)"
      ],
      "execution_count": 0,
      "outputs": []
    },
    {
      "cell_type": "code",
      "metadata": {
        "id": "QNrJZPQPZbLi",
        "colab_type": "code",
        "colab": {}
      },
      "source": [
        "pd.value_counts(X_train_original.MainBranch, normalize = True)"
      ],
      "execution_count": 0,
      "outputs": []
    },
    {
      "cell_type": "code",
      "metadata": {
        "id": "xZK-GPpgpgdu",
        "colab_type": "code",
        "outputId": "f84bee17-75b9-4c59-f392-d76ee784cbfb",
        "colab": {
          "base_uri": "https://localhost:8080/",
          "height": 375
        }
      },
      "source": [
        "#https://www.datacamp.com/community/tutorials/decision-tree-classification-python\n",
        "from sklearn import metrics\n",
        "# Create Decision Tree classifer object\n",
        "#clf = DecisionTreeClassifier(criterion=\"entropy\", max_depth=4)\n",
        "clf=RandomForestClassifier(n_estimators=100)\n",
        "\n",
        "# Train Decision Tree Classifer\n",
        "clf = clf.fit(X_train,y_train)\n",
        "\n",
        "#Predict the response for test dataset\n",
        "y_pred = clf.predict(X_test)\n",
        "\n",
        "# Model Accuracy, how often is the classifier correct?\n",
        "print(\"Accuracy:\",metrics.accuracy_score(y_test, y_pred))"
      ],
      "execution_count": 0,
      "outputs": [
        {
          "output_type": "error",
          "ename": "ValueError",
          "evalue": "ignored",
          "traceback": [
            "\u001b[0;31m---------------------------------------------------------------------------\u001b[0m",
            "\u001b[0;31mValueError\u001b[0m                                Traceback (most recent call last)",
            "\u001b[0;32m<ipython-input-133-4a28e98c6b3a>\u001b[0m in \u001b[0;36m<module>\u001b[0;34m()\u001b[0m\n\u001b[1;32m      5\u001b[0m \u001b[0;34m\u001b[0m\u001b[0m\n\u001b[1;32m      6\u001b[0m \u001b[0;31m# Train Decision Tree Classifer\u001b[0m\u001b[0;34m\u001b[0m\u001b[0;34m\u001b[0m\u001b[0;34m\u001b[0m\u001b[0m\n\u001b[0;32m----> 7\u001b[0;31m \u001b[0mclf\u001b[0m \u001b[0;34m=\u001b[0m \u001b[0mclf\u001b[0m\u001b[0;34m.\u001b[0m\u001b[0mfit\u001b[0m\u001b[0;34m(\u001b[0m\u001b[0mX_train\u001b[0m\u001b[0;34m,\u001b[0m\u001b[0my_train\u001b[0m\u001b[0;34m)\u001b[0m\u001b[0;34m\u001b[0m\u001b[0;34m\u001b[0m\u001b[0m\n\u001b[0m\u001b[1;32m      8\u001b[0m \u001b[0;34m\u001b[0m\u001b[0m\n\u001b[1;32m      9\u001b[0m \u001b[0;31m#Predict the response for test dataset\u001b[0m\u001b[0;34m\u001b[0m\u001b[0;34m\u001b[0m\u001b[0;34m\u001b[0m\u001b[0m\n",
            "\u001b[0;32m/usr/local/lib/python3.6/dist-packages/sklearn/ensemble/_forest.py\u001b[0m in \u001b[0;36mfit\u001b[0;34m(self, X, y, sample_weight)\u001b[0m\n\u001b[1;32m    293\u001b[0m         \"\"\"\n\u001b[1;32m    294\u001b[0m         \u001b[0;31m# Validate or convert input data\u001b[0m\u001b[0;34m\u001b[0m\u001b[0;34m\u001b[0m\u001b[0;34m\u001b[0m\u001b[0m\n\u001b[0;32m--> 295\u001b[0;31m         \u001b[0mX\u001b[0m \u001b[0;34m=\u001b[0m \u001b[0mcheck_array\u001b[0m\u001b[0;34m(\u001b[0m\u001b[0mX\u001b[0m\u001b[0;34m,\u001b[0m \u001b[0maccept_sparse\u001b[0m\u001b[0;34m=\u001b[0m\u001b[0;34m\"csc\"\u001b[0m\u001b[0;34m,\u001b[0m \u001b[0mdtype\u001b[0m\u001b[0;34m=\u001b[0m\u001b[0mDTYPE\u001b[0m\u001b[0;34m)\u001b[0m\u001b[0;34m\u001b[0m\u001b[0;34m\u001b[0m\u001b[0m\n\u001b[0m\u001b[1;32m    296\u001b[0m         \u001b[0my\u001b[0m \u001b[0;34m=\u001b[0m \u001b[0mcheck_array\u001b[0m\u001b[0;34m(\u001b[0m\u001b[0my\u001b[0m\u001b[0;34m,\u001b[0m \u001b[0maccept_sparse\u001b[0m\u001b[0;34m=\u001b[0m\u001b[0;34m'csc'\u001b[0m\u001b[0;34m,\u001b[0m \u001b[0mensure_2d\u001b[0m\u001b[0;34m=\u001b[0m\u001b[0;32mFalse\u001b[0m\u001b[0;34m,\u001b[0m \u001b[0mdtype\u001b[0m\u001b[0;34m=\u001b[0m\u001b[0;32mNone\u001b[0m\u001b[0;34m)\u001b[0m\u001b[0;34m\u001b[0m\u001b[0;34m\u001b[0m\u001b[0m\n\u001b[1;32m    297\u001b[0m         \u001b[0;32mif\u001b[0m \u001b[0msample_weight\u001b[0m \u001b[0;32mis\u001b[0m \u001b[0;32mnot\u001b[0m \u001b[0;32mNone\u001b[0m\u001b[0;34m:\u001b[0m\u001b[0;34m\u001b[0m\u001b[0;34m\u001b[0m\u001b[0m\n",
            "\u001b[0;32m/usr/local/lib/python3.6/dist-packages/sklearn/utils/validation.py\u001b[0m in \u001b[0;36mcheck_array\u001b[0;34m(array, accept_sparse, accept_large_sparse, dtype, order, copy, force_all_finite, ensure_2d, allow_nd, ensure_min_samples, ensure_min_features, warn_on_dtype, estimator)\u001b[0m\n\u001b[1;32m    529\u001b[0m                     \u001b[0marray\u001b[0m \u001b[0;34m=\u001b[0m \u001b[0marray\u001b[0m\u001b[0;34m.\u001b[0m\u001b[0mastype\u001b[0m\u001b[0;34m(\u001b[0m\u001b[0mdtype\u001b[0m\u001b[0;34m,\u001b[0m \u001b[0mcasting\u001b[0m\u001b[0;34m=\u001b[0m\u001b[0;34m\"unsafe\"\u001b[0m\u001b[0;34m,\u001b[0m \u001b[0mcopy\u001b[0m\u001b[0;34m=\u001b[0m\u001b[0;32mFalse\u001b[0m\u001b[0;34m)\u001b[0m\u001b[0;34m\u001b[0m\u001b[0;34m\u001b[0m\u001b[0m\n\u001b[1;32m    530\u001b[0m                 \u001b[0;32melse\u001b[0m\u001b[0;34m:\u001b[0m\u001b[0;34m\u001b[0m\u001b[0;34m\u001b[0m\u001b[0m\n\u001b[0;32m--> 531\u001b[0;31m                     \u001b[0marray\u001b[0m \u001b[0;34m=\u001b[0m \u001b[0mnp\u001b[0m\u001b[0;34m.\u001b[0m\u001b[0masarray\u001b[0m\u001b[0;34m(\u001b[0m\u001b[0marray\u001b[0m\u001b[0;34m,\u001b[0m \u001b[0morder\u001b[0m\u001b[0;34m=\u001b[0m\u001b[0morder\u001b[0m\u001b[0;34m,\u001b[0m \u001b[0mdtype\u001b[0m\u001b[0;34m=\u001b[0m\u001b[0mdtype\u001b[0m\u001b[0;34m)\u001b[0m\u001b[0;34m\u001b[0m\u001b[0;34m\u001b[0m\u001b[0m\n\u001b[0m\u001b[1;32m    532\u001b[0m             \u001b[0;32mexcept\u001b[0m \u001b[0mComplexWarning\u001b[0m\u001b[0;34m:\u001b[0m\u001b[0;34m\u001b[0m\u001b[0;34m\u001b[0m\u001b[0m\n\u001b[1;32m    533\u001b[0m                 raise ValueError(\"Complex data not supported\\n\"\n",
            "\u001b[0;32m/usr/local/lib/python3.6/dist-packages/numpy/core/_asarray.py\u001b[0m in \u001b[0;36masarray\u001b[0;34m(a, dtype, order)\u001b[0m\n\u001b[1;32m     83\u001b[0m \u001b[0;34m\u001b[0m\u001b[0m\n\u001b[1;32m     84\u001b[0m     \"\"\"\n\u001b[0;32m---> 85\u001b[0;31m     \u001b[0;32mreturn\u001b[0m \u001b[0marray\u001b[0m\u001b[0;34m(\u001b[0m\u001b[0ma\u001b[0m\u001b[0;34m,\u001b[0m \u001b[0mdtype\u001b[0m\u001b[0;34m,\u001b[0m \u001b[0mcopy\u001b[0m\u001b[0;34m=\u001b[0m\u001b[0;32mFalse\u001b[0m\u001b[0;34m,\u001b[0m \u001b[0morder\u001b[0m\u001b[0;34m=\u001b[0m\u001b[0morder\u001b[0m\u001b[0;34m)\u001b[0m\u001b[0;34m\u001b[0m\u001b[0;34m\u001b[0m\u001b[0m\n\u001b[0m\u001b[1;32m     86\u001b[0m \u001b[0;34m\u001b[0m\u001b[0m\n\u001b[1;32m     87\u001b[0m \u001b[0;34m\u001b[0m\u001b[0m\n",
            "\u001b[0;31mValueError\u001b[0m: could not convert string to float: 'I am a developer by profession'"
          ]
        }
      ]
    },
    {
      "cell_type": "code",
      "metadata": {
        "id": "49C7VTXzbKDj",
        "colab_type": "code",
        "outputId": "fb9dd774-58ce-4146-81f9-4a4c1bdc4f41",
        "colab": {
          "base_uri": "https://localhost:8080/",
          "height": 97
        }
      },
      "source": [
        "# selecting rows\n",
        "pd.set_option('max_colwidth', 400)\n",
        "Schema[Schema['Column'].str.contains(pat = 'MiscTechWorkedWith') ] "
      ],
      "execution_count": 0,
      "outputs": [
        {
          "output_type": "execute_result",
          "data": {
            "text/html": [
              "<div>\n",
              "<style scoped>\n",
              "    .dataframe tbody tr th:only-of-type {\n",
              "        vertical-align: middle;\n",
              "    }\n",
              "\n",
              "    .dataframe tbody tr th {\n",
              "        vertical-align: top;\n",
              "    }\n",
              "\n",
              "    .dataframe thead th {\n",
              "        text-align: right;\n",
              "    }\n",
              "</style>\n",
              "<table border=\"1\" class=\"dataframe\">\n",
              "  <thead>\n",
              "    <tr style=\"text-align: right;\">\n",
              "      <th></th>\n",
              "      <th>Column</th>\n",
              "      <th>QuestionText</th>\n",
              "    </tr>\n",
              "  </thead>\n",
              "  <tbody>\n",
              "    <tr>\n",
              "      <th>51</th>\n",
              "      <td>MiscTechWorkedWith</td>\n",
              "      <td>Which of the following other frameworks, libraries, and tools have you done extensive development work in over the past year, and which do you want to work in over the next year? (If you both worked with the technology and want to continue to do so, please check both boxes in that row.)</td>\n",
              "    </tr>\n",
              "  </tbody>\n",
              "</table>\n",
              "</div>"
            ],
            "text/plain": [
              "                Column  \\\n",
              "51  MiscTechWorkedWith   \n",
              "\n",
              "                                                                                                                                                                                                                                                                                       QuestionText  \n",
              "51  Which of the following other frameworks, libraries, and tools have you done extensive development work in over the past year, and which do you want to work in over the next year? (If you both worked with the technology and want to continue to do so, please check both boxes in that row.)  "
            ]
          },
          "metadata": {
            "tags": []
          },
          "execution_count": 48
        }
      ]
    },
    {
      "cell_type": "code",
      "metadata": {
        "id": "dJKf-3R_6aq6",
        "colab_type": "code",
        "outputId": "8a9f78c8-a039-4658-de58-9871e0a607fb",
        "colab": {
          "base_uri": "https://localhost:8080/",
          "height": 139
        }
      },
      "source": [
        "Stack['EduOther'].head(5)"
      ],
      "execution_count": 0,
      "outputs": [
        {
          "output_type": "execute_result",
          "data": {
            "text/plain": [
              "2                                                                                                                                                                                                                                                                                                                                  Taught yourself a new language, framework, or tool without taking a formal course\n",
              "3                                                                                                                                                                                                 Taken an online course in programming or software development (e.g. a MOOC);Received on-the-job training in software development;Taught yourself a new language, framework, or tool without taking a formal course\n",
              "4                                                                                                                                                             Taken an online course in programming or software development (e.g. a MOOC);Received on-the-job training in software development;Taught yourself a new language, framework, or tool without taking a formal course;Contributed to open source software\n",
              "6                                                                                                                                                                                                                                                                                                                                  Taught yourself a new language, framework, or tool without taking a formal course\n",
              "8    Taken an online course in programming or software development (e.g. a MOOC);Participated in a full-time developer training program or bootcamp;Taken a part-time in-person course in programming or software development;Received on-the-job training in software development;Taught yourself a new language, framework, or tool without taking a formal course;Participated in online coding competitions (...\n",
              "Name: EduOther, dtype: object"
            ]
          },
          "metadata": {
            "tags": []
          },
          "execution_count": 51
        }
      ]
    }
  ]
}